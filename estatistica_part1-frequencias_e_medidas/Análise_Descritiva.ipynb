{
 "cells": [
  {
   "cell_type": "markdown",
   "metadata": {
    "colab_type": "text",
    "id": "WvMflodMjQKe"
   },
   "source": [
    "***\n",
    "# <font color=green size=10>CURSO DE ESTATÍSTICA - PARTE 1</font>\n",
    "***\n",
    "\n",
    "## Trabalho de Análise Descritiva de um Conjunto de Dados\n",
    "\n",
    "Utilizando os conhecimentos adquiridos em nosso treinamento realize uma análise descritiva básica de um conjunto de dados retirados da Pesquisa Nacional por Amostra de Domicílios - 2015 do IBGE. \n",
    "\n",
    "Vamos construir histogramas, calcular e avaliar medidas de tendência central, medidas separatrizes e de dispersão dos dados.\n",
    "\n",
    "Siga o roteiro proposto e vá completando as células vazias. Procure pensar em mais informações interessantes que podem ser exploradas em nosso dataset."
   ]
  },
  {
   "cell_type": "markdown",
   "metadata": {
    "colab_type": "text",
    "id": "cVgsZ_E3jQKg"
   },
   "source": [
    "# <font color=green>DATASET DO PROJETO</font>\n",
    "***"
   ]
  },
  {
   "cell_type": "markdown",
   "metadata": {
    "colab_type": "text",
    "id": "iN1gIbaKjQKh"
   },
   "source": [
    "### Pesquisa Nacional por Amostra de Domicílios - 2015\n",
    "\n",
    "A <b>Pesquisa Nacional por Amostra de Domicílios - PNAD</b> investiga anualmente, de forma permanente, características gerais da população, de educação, trabalho, rendimento e habitação e outras, com periodicidade variável, de acordo com as necessidades de informação para o país, como as características sobre migração, fecundidade, nupcialidade, saúde, segurança alimentar, entre outros temas. O levantamento dessas estatísticas constitui, ao longo dos 49 anos de realização da pesquisa, um importante instrumento para formulação, validação e avaliação de políticas orientadas para o desenvolvimento socioeconômico e a melhoria das condições de vida no Brasil."
   ]
  },
  {
   "cell_type": "markdown",
   "metadata": {
    "colab_type": "text",
    "id": "U6V7br1RjQKi"
   },
   "source": [
    "### Fonte dos Dados\n",
    "\n",
    "https://ww2.ibge.gov.br/home/estatistica/populacao/trabalhoerendimento/pnad2015/microdados.shtm"
   ]
  },
  {
   "cell_type": "markdown",
   "metadata": {
    "colab_type": "text",
    "id": "r0Fe_qnzjQKj"
   },
   "source": [
    "### Variáveis utilizadas\n",
    "\n",
    "> ### Renda\n",
    "> ***\n",
    "\n",
    "Rendimento mensal do trabalho principal para pessoas de 10 anos ou mais de idade.\n",
    "\n",
    "> ### Idade\n",
    "> ***\n",
    "\n",
    "Idade do morador na data de referência em anos.\n",
    "\n",
    "> ### Altura (elaboração própria)\n",
    "> ***\n",
    "\n",
    "Altura do morador em metros.\n",
    "\n",
    "> ### UF\n",
    "> ***\n",
    "\n",
    "|Código|Descrição|\n",
    "|---|---|\n",
    "|11|Rondônia|\n",
    "|12|Acre|\n",
    "|13|Amazonas|\n",
    "|14|Roraima|\n",
    "|15|Pará|\n",
    "|16|Amapá|\n",
    "|17|Tocantins|\n",
    "|21|Maranhão|\n",
    "|22|Piauí|\n",
    "|23|Ceará|\n",
    "|24|Rio Grande do Norte|\n",
    "|25|Paraíba|\n",
    "|26|Pernambuco|\n",
    "|27|Alagoas|\n",
    "|28|Sergipe|\n",
    "|29|Bahia|\n",
    "|31|Minas Gerais|\n",
    "|32|Espírito Santo|\n",
    "|33|Rio de Janeiro|\n",
    "|35|São Paulo|\n",
    "|41|Paraná|\n",
    "|42|Santa Catarina|\n",
    "|43|Rio Grande do Sul|\n",
    "|50|Mato Grosso do Sul|\n",
    "|51|Mato Grosso|\n",
    "|52|Goiás|\n",
    "|53|Distrito Federal|\n",
    "\n",
    "> ### Sexo\t\n",
    "> ***\n",
    "\n",
    "|Código|Descrição|\n",
    "|---|---|\n",
    "|0|Masculino|\n",
    "|1|Feminino|\n",
    "\n",
    "> ### Anos de Estudo\n",
    "> ***\n",
    "\n",
    "|Código|Descrição|\n",
    "|---|---|\n",
    "|1|Sem instrução e menos de 1 ano|\n",
    "|2|1 ano|\n",
    "|3|2 anos|\n",
    "|4|3 anos|\n",
    "|5|4 anos|\n",
    "|6|5 anos|\n",
    "|7|6 anos|\n",
    "|8|7 anos|\n",
    "|9|8 anos|\n",
    "|10|9 anos|\n",
    "|11|10 anos|\n",
    "|12|11 anos|\n",
    "|13|12 anos|\n",
    "|14|13 anos|\n",
    "|15|14 anos|\n",
    "|16|15 anos ou mais|\n",
    "|17|Não determinados| \n",
    "||Não aplicável|\n",
    "\n",
    "> ### Cor\n",
    "> ***\n",
    "\n",
    "|Código|Descrição|\n",
    "|---|---|\n",
    "|0|Indígena|\n",
    "|2|Branca|\n",
    "|4|Preta|\n",
    "|6|Amarela|\n",
    "|8|Parda|\n",
    "|9|Sem declaração|"
   ]
  },
  {
   "cell_type": "markdown",
   "metadata": {
    "colab_type": "text",
    "id": "OK1IQH5cX7Gb"
   },
   "source": [
    "#### <font color='red'>Observação</font>\n",
    "***\n",
    "> Os seguintes tratamentos foram realizados nos dados originais:\n",
    "> 1. Foram eliminados os registros onde a <b>Renda</b> era inválida (999 999 999 999);\n",
    "> 2. Foram eliminados os registros onde a <b>Renda</b> era missing;\n",
    "> 3. Foram considerados somente os registros das <b>Pessoas de Referência</b> de cada domicílio (responsável pelo domicílio)."
   ]
  },
  {
   "cell_type": "markdown",
   "metadata": {
    "colab_type": "text",
    "id": "ZIqLOffNTg1Y"
   },
   "source": [
    "***\n",
    "***"
   ]
  },
  {
   "cell_type": "markdown",
   "metadata": {
    "colab_type": "text",
    "id": "8Rw70V6ojQKk"
   },
   "source": [
    "### Utilize a célula abaixo para importar as biblioteca que precisar para executar as tarefas\n",
    "#### <font color='red'>Sugestões: pandas, numpy, seaborn</font>"
   ]
  },
  {
   "cell_type": "code",
   "execution_count": 2,
   "metadata": {
    "colab": {},
    "colab_type": "code",
    "id": "fcTgimHBybMz"
   },
   "outputs": [],
   "source": [
    "import pandas as pd\n",
    "import numpy as np\n",
    "import seaborn as sns\n",
    "import matplotlib.pyplot as plt"
   ]
  },
  {
   "cell_type": "markdown",
   "metadata": {
    "colab_type": "text",
    "id": "2a-gvBvCULwt"
   },
   "source": [
    "### Importe o dataset e armazene o conteúdo em uma DataFrame"
   ]
  },
  {
   "cell_type": "code",
   "execution_count": 3,
   "metadata": {
    "colab": {},
    "colab_type": "code",
    "id": "ufRZ7TLwjQKo"
   },
   "outputs": [
    {
     "data": {
      "text/html": [
       "<div>\n",
       "<style scoped>\n",
       "    .dataframe tbody tr th:only-of-type {\n",
       "        vertical-align: middle;\n",
       "    }\n",
       "\n",
       "    .dataframe tbody tr th {\n",
       "        vertical-align: top;\n",
       "    }\n",
       "\n",
       "    .dataframe thead th {\n",
       "        text-align: right;\n",
       "    }\n",
       "</style>\n",
       "<table border=\"1\" class=\"dataframe\">\n",
       "  <thead>\n",
       "    <tr style=\"text-align: right;\">\n",
       "      <th></th>\n",
       "      <th>UF</th>\n",
       "      <th>Sexo</th>\n",
       "      <th>Idade</th>\n",
       "      <th>Cor</th>\n",
       "      <th>Anos de Estudo</th>\n",
       "      <th>Renda</th>\n",
       "      <th>Altura</th>\n",
       "    </tr>\n",
       "  </thead>\n",
       "  <tbody>\n",
       "    <tr>\n",
       "      <th>0</th>\n",
       "      <td>11</td>\n",
       "      <td>0</td>\n",
       "      <td>23</td>\n",
       "      <td>8</td>\n",
       "      <td>12</td>\n",
       "      <td>800</td>\n",
       "      <td>1.603808</td>\n",
       "    </tr>\n",
       "    <tr>\n",
       "      <th>1</th>\n",
       "      <td>11</td>\n",
       "      <td>1</td>\n",
       "      <td>23</td>\n",
       "      <td>2</td>\n",
       "      <td>12</td>\n",
       "      <td>1150</td>\n",
       "      <td>1.739790</td>\n",
       "    </tr>\n",
       "    <tr>\n",
       "      <th>2</th>\n",
       "      <td>11</td>\n",
       "      <td>1</td>\n",
       "      <td>35</td>\n",
       "      <td>8</td>\n",
       "      <td>15</td>\n",
       "      <td>880</td>\n",
       "      <td>1.760444</td>\n",
       "    </tr>\n",
       "    <tr>\n",
       "      <th>3</th>\n",
       "      <td>11</td>\n",
       "      <td>0</td>\n",
       "      <td>46</td>\n",
       "      <td>2</td>\n",
       "      <td>6</td>\n",
       "      <td>3500</td>\n",
       "      <td>1.783158</td>\n",
       "    </tr>\n",
       "    <tr>\n",
       "      <th>4</th>\n",
       "      <td>11</td>\n",
       "      <td>1</td>\n",
       "      <td>47</td>\n",
       "      <td>8</td>\n",
       "      <td>9</td>\n",
       "      <td>150</td>\n",
       "      <td>1.690631</td>\n",
       "    </tr>\n",
       "    <tr>\n",
       "      <th>...</th>\n",
       "      <td>...</td>\n",
       "      <td>...</td>\n",
       "      <td>...</td>\n",
       "      <td>...</td>\n",
       "      <td>...</td>\n",
       "      <td>...</td>\n",
       "      <td>...</td>\n",
       "    </tr>\n",
       "    <tr>\n",
       "      <th>76835</th>\n",
       "      <td>53</td>\n",
       "      <td>1</td>\n",
       "      <td>46</td>\n",
       "      <td>2</td>\n",
       "      <td>11</td>\n",
       "      <td>812</td>\n",
       "      <td>1.687030</td>\n",
       "    </tr>\n",
       "    <tr>\n",
       "      <th>76836</th>\n",
       "      <td>53</td>\n",
       "      <td>0</td>\n",
       "      <td>30</td>\n",
       "      <td>4</td>\n",
       "      <td>7</td>\n",
       "      <td>1500</td>\n",
       "      <td>1.792934</td>\n",
       "    </tr>\n",
       "    <tr>\n",
       "      <th>76837</th>\n",
       "      <td>53</td>\n",
       "      <td>0</td>\n",
       "      <td>32</td>\n",
       "      <td>8</td>\n",
       "      <td>12</td>\n",
       "      <td>1300</td>\n",
       "      <td>1.830587</td>\n",
       "    </tr>\n",
       "    <tr>\n",
       "      <th>76838</th>\n",
       "      <td>53</td>\n",
       "      <td>0</td>\n",
       "      <td>57</td>\n",
       "      <td>8</td>\n",
       "      <td>4</td>\n",
       "      <td>1500</td>\n",
       "      <td>1.726344</td>\n",
       "    </tr>\n",
       "    <tr>\n",
       "      <th>76839</th>\n",
       "      <td>53</td>\n",
       "      <td>0</td>\n",
       "      <td>38</td>\n",
       "      <td>8</td>\n",
       "      <td>4</td>\n",
       "      <td>900</td>\n",
       "      <td>1.658305</td>\n",
       "    </tr>\n",
       "  </tbody>\n",
       "</table>\n",
       "<p>76840 rows × 7 columns</p>\n",
       "</div>"
      ],
      "text/plain": [
       "       UF  Sexo  Idade  Cor  Anos de Estudo  Renda    Altura\n",
       "0      11     0     23    8              12    800  1.603808\n",
       "1      11     1     23    2              12   1150  1.739790\n",
       "2      11     1     35    8              15    880  1.760444\n",
       "3      11     0     46    2               6   3500  1.783158\n",
       "4      11     1     47    8               9    150  1.690631\n",
       "...    ..   ...    ...  ...             ...    ...       ...\n",
       "76835  53     1     46    2              11    812  1.687030\n",
       "76836  53     0     30    4               7   1500  1.792934\n",
       "76837  53     0     32    8              12   1300  1.830587\n",
       "76838  53     0     57    8               4   1500  1.726344\n",
       "76839  53     0     38    8               4    900  1.658305\n",
       "\n",
       "[76840 rows x 7 columns]"
      ]
     },
     "execution_count": 3,
     "metadata": {},
     "output_type": "execute_result"
    }
   ],
   "source": [
    "dados = pd.read_csv('dados/dados.csv')\n",
    "dados"
   ]
  },
  {
   "cell_type": "markdown",
   "metadata": {
    "colab_type": "text",
    "id": "Oq3CKHCmTg1j"
   },
   "source": [
    "### Visualize o conteúdo do DataFrame"
   ]
  },
  {
   "cell_type": "code",
   "execution_count": 4,
   "metadata": {
    "colab": {},
    "colab_type": "code",
    "id": "GsC_WhLFjQKq",
    "scrolled": true
   },
   "outputs": [
    {
     "data": {
      "text/html": [
       "<div>\n",
       "<style scoped>\n",
       "    .dataframe tbody tr th:only-of-type {\n",
       "        vertical-align: middle;\n",
       "    }\n",
       "\n",
       "    .dataframe tbody tr th {\n",
       "        vertical-align: top;\n",
       "    }\n",
       "\n",
       "    .dataframe thead th {\n",
       "        text-align: right;\n",
       "    }\n",
       "</style>\n",
       "<table border=\"1\" class=\"dataframe\">\n",
       "  <thead>\n",
       "    <tr style=\"text-align: right;\">\n",
       "      <th></th>\n",
       "      <th>UF</th>\n",
       "      <th>Sexo</th>\n",
       "      <th>Idade</th>\n",
       "      <th>Cor</th>\n",
       "      <th>Anos de Estudo</th>\n",
       "      <th>Renda</th>\n",
       "      <th>Altura</th>\n",
       "    </tr>\n",
       "  </thead>\n",
       "  <tbody>\n",
       "    <tr>\n",
       "      <th>0</th>\n",
       "      <td>11</td>\n",
       "      <td>0</td>\n",
       "      <td>23</td>\n",
       "      <td>8</td>\n",
       "      <td>12</td>\n",
       "      <td>800</td>\n",
       "      <td>1.603808</td>\n",
       "    </tr>\n",
       "    <tr>\n",
       "      <th>1</th>\n",
       "      <td>11</td>\n",
       "      <td>1</td>\n",
       "      <td>23</td>\n",
       "      <td>2</td>\n",
       "      <td>12</td>\n",
       "      <td>1150</td>\n",
       "      <td>1.739790</td>\n",
       "    </tr>\n",
       "    <tr>\n",
       "      <th>2</th>\n",
       "      <td>11</td>\n",
       "      <td>1</td>\n",
       "      <td>35</td>\n",
       "      <td>8</td>\n",
       "      <td>15</td>\n",
       "      <td>880</td>\n",
       "      <td>1.760444</td>\n",
       "    </tr>\n",
       "    <tr>\n",
       "      <th>3</th>\n",
       "      <td>11</td>\n",
       "      <td>0</td>\n",
       "      <td>46</td>\n",
       "      <td>2</td>\n",
       "      <td>6</td>\n",
       "      <td>3500</td>\n",
       "      <td>1.783158</td>\n",
       "    </tr>\n",
       "    <tr>\n",
       "      <th>4</th>\n",
       "      <td>11</td>\n",
       "      <td>1</td>\n",
       "      <td>47</td>\n",
       "      <td>8</td>\n",
       "      <td>9</td>\n",
       "      <td>150</td>\n",
       "      <td>1.690631</td>\n",
       "    </tr>\n",
       "  </tbody>\n",
       "</table>\n",
       "</div>"
      ],
      "text/plain": [
       "   UF  Sexo  Idade  Cor  Anos de Estudo  Renda    Altura\n",
       "0  11     0     23    8              12    800  1.603808\n",
       "1  11     1     23    2              12   1150  1.739790\n",
       "2  11     1     35    8              15    880  1.760444\n",
       "3  11     0     46    2               6   3500  1.783158\n",
       "4  11     1     47    8               9    150  1.690631"
      ]
     },
     "execution_count": 4,
     "metadata": {},
     "output_type": "execute_result"
    }
   ],
   "source": [
    "dados.head()"
   ]
  },
  {
   "cell_type": "markdown",
   "metadata": {
    "colab_type": "text",
    "id": "HDrFJQitTg1n"
   },
   "source": [
    "### Para avaliarmos o comportamento da variável RENDA vamos construir uma tabela de frequências considerando as seguintes classes em salários mínimos (SM)\n",
    "#### <font color='blue'>Descreva os pontos mais relevantes que você observa na tabela e no gráfico.</font>\n",
    "\n",
    "Classes de renda:\n",
    "\n",
    "<b>A</b> ► Acima de 25 SM\n",
    "\n",
    "<b>B</b> ► De 15 a 25 SM\n",
    "\n",
    "<b>C</b> ► De 5 a 15 SM\n",
    "\n",
    "<b>D</b> ► De 2 a 5 SM\n",
    "\n",
    "<b>E</b> ► Até 2 SM\n",
    "\n",
    "Para construir as classes de renda considere que o salário mínimo na época da pesquisa era de <b>R$ 788,00</b>.\n",
    "\n",
    "#### Siga os passos abaixo:"
   ]
  },
  {
   "cell_type": "markdown",
   "metadata": {
    "colab_type": "text",
    "id": "zJBkeGxiTg1o"
   },
   "source": [
    "### 1º Definir os intevalos das classes em reais (R$)"
   ]
  },
  {
   "cell_type": "code",
   "execution_count": 5,
   "metadata": {},
   "outputs": [
    {
     "data": {
      "text/plain": [
       "0"
      ]
     },
     "execution_count": 5,
     "metadata": {},
     "output_type": "execute_result"
    }
   ],
   "source": [
    "dados['Renda'].min()"
   ]
  },
  {
   "cell_type": "code",
   "execution_count": 6,
   "metadata": {},
   "outputs": [
    {
     "data": {
      "text/plain": [
       "200000"
      ]
     },
     "execution_count": 6,
     "metadata": {},
     "output_type": "execute_result"
    }
   ],
   "source": [
    "dados['Renda'].max()"
   ]
  },
  {
   "cell_type": "code",
   "execution_count": 7,
   "metadata": {
    "colab": {},
    "colab_type": "code",
    "id": "-Ct3QUj6Tg1p"
   },
   "outputs": [
    {
     "data": {
      "text/plain": [
       "[0, 1576, 3940, 11820, 19700, 200000]"
      ]
     },
     "execution_count": 7,
     "metadata": {},
     "output_type": "execute_result"
    }
   ],
   "source": [
    "classes = [0,2*788,5*788,15*788,25*788,200000]\n",
    "classes"
   ]
  },
  {
   "cell_type": "markdown",
   "metadata": {
    "colab_type": "text",
    "id": "dZ7X37CGTg1t"
   },
   "source": [
    "### 2º Definir os labels das classes"
   ]
  },
  {
   "cell_type": "code",
   "execution_count": 8,
   "metadata": {
    "colab": {},
    "colab_type": "code",
    "id": "4UFOzitTTg1u"
   },
   "outputs": [
    {
     "data": {
      "text/plain": [
       "['E', 'D', 'C', 'B', 'A']"
      ]
     },
     "execution_count": 8,
     "metadata": {},
     "output_type": "execute_result"
    }
   ],
   "source": [
    "labels = ['E','D','C','B','A']\n",
    "labels"
   ]
  },
  {
   "cell_type": "markdown",
   "metadata": {
    "colab_type": "text",
    "id": "umFq1o-UTg1w"
   },
   "source": [
    "### 3º Construir a coluna de frequências"
   ]
  },
  {
   "cell_type": "code",
   "execution_count": 9,
   "metadata": {
    "colab": {},
    "colab_type": "code",
    "id": "uSztBoqOTg1x"
   },
   "outputs": [
    {
     "data": {
      "text/html": [
       "<div>\n",
       "<style scoped>\n",
       "    .dataframe tbody tr th:only-of-type {\n",
       "        vertical-align: middle;\n",
       "    }\n",
       "\n",
       "    .dataframe tbody tr th {\n",
       "        vertical-align: top;\n",
       "    }\n",
       "\n",
       "    .dataframe thead th {\n",
       "        text-align: right;\n",
       "    }\n",
       "</style>\n",
       "<table border=\"1\" class=\"dataframe\">\n",
       "  <thead>\n",
       "    <tr style=\"text-align: right;\">\n",
       "      <th></th>\n",
       "      <th>UF</th>\n",
       "      <th>Sexo</th>\n",
       "      <th>Idade</th>\n",
       "      <th>Cor</th>\n",
       "      <th>Anos de Estudo</th>\n",
       "      <th>Renda</th>\n",
       "      <th>Altura</th>\n",
       "      <th>classe</th>\n",
       "    </tr>\n",
       "  </thead>\n",
       "  <tbody>\n",
       "    <tr>\n",
       "      <th>0</th>\n",
       "      <td>11</td>\n",
       "      <td>0</td>\n",
       "      <td>23</td>\n",
       "      <td>8</td>\n",
       "      <td>12</td>\n",
       "      <td>800</td>\n",
       "      <td>1.603808</td>\n",
       "      <td>E</td>\n",
       "    </tr>\n",
       "    <tr>\n",
       "      <th>1</th>\n",
       "      <td>11</td>\n",
       "      <td>1</td>\n",
       "      <td>23</td>\n",
       "      <td>2</td>\n",
       "      <td>12</td>\n",
       "      <td>1150</td>\n",
       "      <td>1.739790</td>\n",
       "      <td>E</td>\n",
       "    </tr>\n",
       "    <tr>\n",
       "      <th>2</th>\n",
       "      <td>11</td>\n",
       "      <td>1</td>\n",
       "      <td>35</td>\n",
       "      <td>8</td>\n",
       "      <td>15</td>\n",
       "      <td>880</td>\n",
       "      <td>1.760444</td>\n",
       "      <td>E</td>\n",
       "    </tr>\n",
       "    <tr>\n",
       "      <th>3</th>\n",
       "      <td>11</td>\n",
       "      <td>0</td>\n",
       "      <td>46</td>\n",
       "      <td>2</td>\n",
       "      <td>6</td>\n",
       "      <td>3500</td>\n",
       "      <td>1.783158</td>\n",
       "      <td>D</td>\n",
       "    </tr>\n",
       "    <tr>\n",
       "      <th>4</th>\n",
       "      <td>11</td>\n",
       "      <td>1</td>\n",
       "      <td>47</td>\n",
       "      <td>8</td>\n",
       "      <td>9</td>\n",
       "      <td>150</td>\n",
       "      <td>1.690631</td>\n",
       "      <td>E</td>\n",
       "    </tr>\n",
       "  </tbody>\n",
       "</table>\n",
       "</div>"
      ],
      "text/plain": [
       "   UF  Sexo  Idade  Cor  Anos de Estudo  Renda    Altura classe\n",
       "0  11     0     23    8              12    800  1.603808      E\n",
       "1  11     1     23    2              12   1150  1.739790      E\n",
       "2  11     1     35    8              15    880  1.760444      E\n",
       "3  11     0     46    2               6   3500  1.783158      D\n",
       "4  11     1     47    8               9    150  1.690631      E"
      ]
     },
     "execution_count": 9,
     "metadata": {},
     "output_type": "execute_result"
    }
   ],
   "source": [
    "#classificando os dados de renda para cada observação\n",
    "dados['classe'] = pd.cut(x = dados['Renda'],\n",
    "       bins = classes,\n",
    "      labels = labels,\n",
    "      include_lowest = True)\n",
    "dados.head()"
   ]
  },
  {
   "cell_type": "code",
   "execution_count": 10,
   "metadata": {},
   "outputs": [
    {
     "data": {
      "text/plain": [
       "E    49755\n",
       "D    18602\n",
       "C     7241\n",
       "B      822\n",
       "A      420\n",
       "Name: classe, dtype: int64"
      ]
     },
     "execution_count": 10,
     "metadata": {},
     "output_type": "execute_result"
    }
   ],
   "source": [
    "frequencia = pd.value_counts(dados['classe'])\n",
    "frequencia"
   ]
  },
  {
   "cell_type": "markdown",
   "metadata": {
    "colab_type": "text",
    "id": "2k6nGUZKTg11"
   },
   "source": [
    "### 4º Construir a coluna de percentuais"
   ]
  },
  {
   "cell_type": "code",
   "execution_count": 11,
   "metadata": {
    "colab": {},
    "colab_type": "code",
    "id": "rdwUABsnTg12"
   },
   "outputs": [
    {
     "data": {
      "text/plain": [
       "E    64.751432\n",
       "D    24.208745\n",
       "C     9.423477\n",
       "B     1.069755\n",
       "A     0.546590\n",
       "Name: classe, dtype: float64"
      ]
     },
     "execution_count": 11,
     "metadata": {},
     "output_type": "execute_result"
    }
   ],
   "source": [
    "percentual = pd.value_counts(dados['classe'], normalize = True)*100\n",
    "percentual"
   ]
  },
  {
   "cell_type": "markdown",
   "metadata": {
    "colab_type": "text",
    "id": "9dvk6-9_Tg16"
   },
   "source": [
    "### 5º Juntar as colunas de frequência e percentuais e ordenar as linhas de acordo com os labels das classes"
   ]
  },
  {
   "cell_type": "code",
   "execution_count": 12,
   "metadata": {
    "colab": {},
    "colab_type": "code",
    "id": "tO_bcMmgTg16"
   },
   "outputs": [
    {
     "data": {
      "text/html": [
       "<div>\n",
       "<style scoped>\n",
       "    .dataframe tbody tr th:only-of-type {\n",
       "        vertical-align: middle;\n",
       "    }\n",
       "\n",
       "    .dataframe tbody tr th {\n",
       "        vertical-align: top;\n",
       "    }\n",
       "\n",
       "    .dataframe thead th {\n",
       "        text-align: right;\n",
       "    }\n",
       "</style>\n",
       "<table border=\"1\" class=\"dataframe\">\n",
       "  <thead>\n",
       "    <tr style=\"text-align: right;\">\n",
       "      <th></th>\n",
       "      <th>Frequencia</th>\n",
       "      <th>Percentual</th>\n",
       "    </tr>\n",
       "  </thead>\n",
       "  <tbody>\n",
       "    <tr>\n",
       "      <th>A</th>\n",
       "      <td>420</td>\n",
       "      <td>0.546590</td>\n",
       "    </tr>\n",
       "    <tr>\n",
       "      <th>B</th>\n",
       "      <td>822</td>\n",
       "      <td>1.069755</td>\n",
       "    </tr>\n",
       "    <tr>\n",
       "      <th>C</th>\n",
       "      <td>7241</td>\n",
       "      <td>9.423477</td>\n",
       "    </tr>\n",
       "    <tr>\n",
       "      <th>D</th>\n",
       "      <td>18602</td>\n",
       "      <td>24.208745</td>\n",
       "    </tr>\n",
       "    <tr>\n",
       "      <th>E</th>\n",
       "      <td>49755</td>\n",
       "      <td>64.751432</td>\n",
       "    </tr>\n",
       "  </tbody>\n",
       "</table>\n",
       "</div>"
      ],
      "text/plain": [
       "   Frequencia  Percentual\n",
       "A         420    0.546590\n",
       "B         822    1.069755\n",
       "C        7241    9.423477\n",
       "D       18602   24.208745\n",
       "E       49755   64.751432"
      ]
     },
     "execution_count": 12,
     "metadata": {},
     "output_type": "execute_result"
    }
   ],
   "source": [
    "freq_renda = pd.DataFrame({'Frequencia':frequencia, 'Percentual': percentual}).sort_index(ascending = False)\n",
    "freq_renda"
   ]
  },
  {
   "cell_type": "markdown",
   "metadata": {
    "colab_type": "text",
    "id": "DOYtXuSbTg18"
   },
   "source": [
    "### Construa um gráfico de barras para visualizar as informações da tabela de frequências acima"
   ]
  },
  {
   "cell_type": "code",
   "execution_count": 13,
   "metadata": {
    "colab": {},
    "colab_type": "code",
    "id": "e4mDPKf1Tg18"
   },
   "outputs": [
    {
     "data": {
      "text/plain": [
       "<matplotlib.axes._subplots.AxesSubplot at 0x27e844d1588>"
      ]
     },
     "execution_count": 13,
     "metadata": {},
     "output_type": "execute_result"
    },
    {
     "data": {
      "image/png": "[encoded data removed]",
      "text/plain": [
       "<Figure size 432x288 with 1 Axes>"
      ]
     },
     "metadata": {
      "needs_background": "light"
     },
     "output_type": "display_data"
    }
   ],
   "source": [
    "freq_renda['Frequencia'].plot.bar()"
   ]
  },
  {
   "cell_type": "code",
   "execution_count": 14,
   "metadata": {},
   "outputs": [
    {
     "data": {
      "text/plain": [
       "<matplotlib.axes._subplots.AxesSubplot at 0x27e84bc0fc8>"
      ]
     },
     "execution_count": 14,
     "metadata": {},
     "output_type": "execute_result"
    },
    {
     "data": {
      "image/png": "[encoded data removed]",
      "text/plain": [
       "<Figure size 864x288 with 1 Axes>"
      ]
     },
     "metadata": {
      "needs_background": "light"
     },
     "output_type": "display_data"
    }
   ],
   "source": [
    "ax = sns.barplot( x = freq_renda.index, y = 'Frequencia', data = freq_renda, palette = \"mako\")\n",
    "ax.figure.set_size_inches(12, 4)\n",
    "ax.set_title('Renda dos Entrevistados', fontsize=18)\n",
    "ax.set_xlabel('Classes', fontsize=14)\n",
    "ax"
   ]
  },
  {
   "cell_type": "markdown",
   "metadata": {
    "colab_type": "text",
    "id": "9ppt5JevTg1-"
   },
   "source": [
    "> ### Conclusões\n",
    "\n",
    "Podemos observar que mais da metade dos entrevistades é de classe E, ou seja, recebe até 2 salários minimos."
   ]
  },
  {
   "cell_type": "markdown",
   "metadata": {
    "colab_type": "text",
    "id": "yt-gFm93Tg1-"
   },
   "source": [
    "### Crie um histograma para as variáveis QUANTITATIVAS de nosso dataset\n",
    "#### <font color='blue'>Descreva os pontos mais relevantes que você observa nos gráficos (assimetrias e seus tipos, possíveis causas para determinados comportamentos etc.)</font>"
   ]
  },
  {
   "cell_type": "code",
   "execution_count": 15,
   "metadata": {
    "colab": {},
    "colab_type": "code",
    "id": "DYjq9xasTg1_"
   },
   "outputs": [
    {
     "data": {
      "text/html": [
       "<div>\n",
       "<style scoped>\n",
       "    .dataframe tbody tr th:only-of-type {\n",
       "        vertical-align: middle;\n",
       "    }\n",
       "\n",
       "    .dataframe tbody tr th {\n",
       "        vertical-align: top;\n",
       "    }\n",
       "\n",
       "    .dataframe thead th {\n",
       "        text-align: right;\n",
       "    }\n",
       "</style>\n",
       "<table border=\"1\" class=\"dataframe\">\n",
       "  <thead>\n",
       "    <tr style=\"text-align: right;\">\n",
       "      <th></th>\n",
       "      <th>UF</th>\n",
       "      <th>Sexo</th>\n",
       "      <th>Idade</th>\n",
       "      <th>Cor</th>\n",
       "      <th>Anos de Estudo</th>\n",
       "      <th>Renda</th>\n",
       "      <th>Altura</th>\n",
       "      <th>classe</th>\n",
       "    </tr>\n",
       "  </thead>\n",
       "  <tbody>\n",
       "    <tr>\n",
       "      <th>0</th>\n",
       "      <td>11</td>\n",
       "      <td>0</td>\n",
       "      <td>23</td>\n",
       "      <td>8</td>\n",
       "      <td>12</td>\n",
       "      <td>800</td>\n",
       "      <td>1.603808</td>\n",
       "      <td>E</td>\n",
       "    </tr>\n",
       "    <tr>\n",
       "      <th>1</th>\n",
       "      <td>11</td>\n",
       "      <td>1</td>\n",
       "      <td>23</td>\n",
       "      <td>2</td>\n",
       "      <td>12</td>\n",
       "      <td>1150</td>\n",
       "      <td>1.739790</td>\n",
       "      <td>E</td>\n",
       "    </tr>\n",
       "    <tr>\n",
       "      <th>2</th>\n",
       "      <td>11</td>\n",
       "      <td>1</td>\n",
       "      <td>35</td>\n",
       "      <td>8</td>\n",
       "      <td>15</td>\n",
       "      <td>880</td>\n",
       "      <td>1.760444</td>\n",
       "      <td>E</td>\n",
       "    </tr>\n",
       "    <tr>\n",
       "      <th>3</th>\n",
       "      <td>11</td>\n",
       "      <td>0</td>\n",
       "      <td>46</td>\n",
       "      <td>2</td>\n",
       "      <td>6</td>\n",
       "      <td>3500</td>\n",
       "      <td>1.783158</td>\n",
       "      <td>D</td>\n",
       "    </tr>\n",
       "    <tr>\n",
       "      <th>4</th>\n",
       "      <td>11</td>\n",
       "      <td>1</td>\n",
       "      <td>47</td>\n",
       "      <td>8</td>\n",
       "      <td>9</td>\n",
       "      <td>150</td>\n",
       "      <td>1.690631</td>\n",
       "      <td>E</td>\n",
       "    </tr>\n",
       "  </tbody>\n",
       "</table>\n",
       "</div>"
      ],
      "text/plain": [
       "   UF  Sexo  Idade  Cor  Anos de Estudo  Renda    Altura classe\n",
       "0  11     0     23    8              12    800  1.603808      E\n",
       "1  11     1     23    2              12   1150  1.739790      E\n",
       "2  11     1     35    8              15    880  1.760444      E\n",
       "3  11     0     46    2               6   3500  1.783158      D\n",
       "4  11     1     47    8               9    150  1.690631      E"
      ]
     },
     "execution_count": 15,
     "metadata": {},
     "output_type": "execute_result"
    }
   ],
   "source": [
    "dados.head()"
   ]
  },
  {
   "cell_type": "markdown",
   "metadata": {
    "colab": {},
    "colab_type": "code",
    "id": "uh2CWIG8Tg2A"
   },
   "source": [
    "Variáveis quantitativas: Renda e Altura."
   ]
  },
  {
   "cell_type": "code",
   "execution_count": 16,
   "metadata": {
    "colab": {},
    "colab_type": "code",
    "id": "s55WPk1aTg2C"
   },
   "outputs": [
    {
     "data": {
      "text/plain": [
       "<matplotlib.axes._subplots.AxesSubplot at 0x27e84c54a88>"
      ]
     },
     "execution_count": 16,
     "metadata": {},
     "output_type": "execute_result"
    },
    {
     "data": {
      "image/png": "[encoded data removed]",
      "text/plain": [
       "<Figure size 864x288 with 1 Axes>"
      ]
     },
     "metadata": {
      "needs_background": "light"
     },
     "output_type": "display_data"
    }
   ],
   "source": [
    "ax = sns.distplot(dados['Altura'], kde = False)\n",
    "ax.figure.set_size_inches(12, 4)\n",
    "ax.set_title('Distribuição de frequência - Altura', fontsize=18)\n",
    "ax.set_xlabel('Altura', fontsize=14)\n",
    "ax"
   ]
  },
  {
   "cell_type": "code",
   "execution_count": 17,
   "metadata": {},
   "outputs": [
    {
     "data": {
      "text/plain": [
       "<matplotlib.axes._subplots.AxesSubplot at 0x27e84d311c8>"
      ]
     },
     "execution_count": 17,
     "metadata": {},
     "output_type": "execute_result"
    },
    {
     "data": {
      "image/png": "[encoded data removed]",
      "text/plain": [
       "<Figure size 864x288 with 1 Axes>"
      ]
     },
     "metadata": {
      "needs_background": "light"
     },
     "output_type": "display_data"
    }
   ],
   "source": [
    "ax = sns.distplot(dados['Renda'], kde = False)\n",
    "ax.figure.set_size_inches(12, 4)\n",
    "ax.set_title('Distribuição de frequência - Renda', fontsize=18)\n",
    "ax.set_xlabel('Renda', fontsize=14)\n",
    "ax"
   ]
  },
  {
   "cell_type": "markdown",
   "metadata": {},
   "source": [
    "Fica estranho por conta da presença de valores muito discrepantes.\n"
   ]
  },
  {
   "cell_type": "code",
   "execution_count": 18,
   "metadata": {},
   "outputs": [
    {
     "data": {
      "text/plain": [
       "<matplotlib.axes._subplots.AxesSubplot at 0x27e84e31708>"
      ]
     },
     "execution_count": 18,
     "metadata": {},
     "output_type": "execute_result"
    },
    {
     "data": {
      "image/png": "[encoded data removed]",
      "text/plain": [
       "<Figure size 864x288 with 1 Axes>"
      ]
     },
     "metadata": {
      "needs_background": "light"
     },
     "output_type": "display_data"
    }
   ],
   "source": [
    "ax = sns.distplot(dados.query('Renda < 20000')['Renda'], kde = False)\n",
    "ax.figure.set_size_inches(12, 4)\n",
    "ax.set_title('Distribuição de frequência - Renda', fontsize=18)\n",
    "ax.set_xlabel('Renda', fontsize=14)\n",
    "ax"
   ]
  },
  {
   "cell_type": "markdown",
   "metadata": {
    "colab_type": "text",
    "id": "w45i-qJ1Tg2E"
   },
   "source": [
    "> ### Conclusões\n",
    "\n",
    "O gráfico de distribuição de frequencia para a variável altura apresenta uma caracteristicas simétrica, indicando que os dados podem ser normais. \n",
    "Já o gráfico de distribuição de frequencia para a variável renda é do tipo assimétrico a direita, possui valores muito discrepantes, pode indicar presenta de outliers."
   ]
  },
  {
   "cell_type": "markdown",
   "metadata": {
    "colab_type": "text",
    "id": "pnAH1T5fTg2F"
   },
   "source": [
    "### Para a variável RENDA, construa um histograma somente com as informações das pessoas com rendimento até R$ 20.000,00"
   ]
  },
  {
   "cell_type": "code",
   "execution_count": 19,
   "metadata": {
    "colab": {},
    "colab_type": "code",
    "id": "C7zHF1vPTg2G"
   },
   "outputs": [
    {
     "data": {
      "text/plain": [
       "<matplotlib.axes._subplots.AxesSubplot at 0x27e84ea7188>"
      ]
     },
     "execution_count": 19,
     "metadata": {},
     "output_type": "execute_result"
    },
    {
     "data": {
      "image/png": "[encoded data removed]",
      "text/plain": [
       "<Figure size 864x288 with 1 Axes>"
      ]
     },
     "metadata": {
      "needs_background": "light"
     },
     "output_type": "display_data"
    }
   ],
   "source": [
    "ax = sns.distplot(dados.query('Renda < 20000')['Renda'], kde = False)\n",
    "ax.figure.set_size_inches(12, 4)\n",
    "ax.set_title('Distribuição de frequência - Renda', fontsize=18)\n",
    "ax.set_xlabel('Renda', fontsize=14)\n",
    "ax"
   ]
  },
  {
   "cell_type": "markdown",
   "metadata": {
    "colab_type": "text",
    "id": "vvtzLOUKTg2H"
   },
   "source": [
    "### Construa uma tabela de frequências e uma com os percentuais do cruzando das variáveis SEXO e COR\n",
    "#### <font color='blue'>Avalie o resultado da tabela e escreva suas principais conclusões</font>\n",
    "#### <font color='red'>Utilize os dicionários abaixo para renomear as linha e colunas das tabelas de frequências e dos gráficos em nosso projeto</font>"
   ]
  },
  {
   "cell_type": "code",
   "execution_count": 20,
   "metadata": {
    "colab": {},
    "colab_type": "code",
    "id": "sChJRo_qTg2I"
   },
   "outputs": [],
   "source": [
    "sexo = {\n",
    "    0: 'Masculino', \n",
    "    1: 'Feminino'\n",
    "}\n",
    "cor = {\n",
    "    0: 'Indígena', \n",
    "    2: 'Branca', \n",
    "    4: 'Preta', \n",
    "    6: 'Amarela', \n",
    "    8: 'Parda', \n",
    "    9: 'Sem declaração'\n",
    "}\n",
    "anos_de_estudo = {\n",
    "    1: 'Sem instrução e menos de 1 ano', \n",
    "    2: '1 ano', \n",
    "    3: '2 anos', \n",
    "    4: '3 anos', \n",
    "    5: '4 anos', \n",
    "    6: '5 anos', \n",
    "    7: '6 anos', \n",
    "    8: '7 anos', \n",
    "    9: '8 anos', \n",
    "    10: '9 anos', \n",
    "    11: '10 anos', \n",
    "    12: '11 anos', \n",
    "    13: '12 anos', \n",
    "    14: '13 anos', \n",
    "    15: '14 anos', \n",
    "    16: '15 anos ou mais', \n",
    "    17: 'Não determinados'\n",
    "}\n",
    "uf = {\n",
    "    11: 'Rondônia', \n",
    "    12: 'Acre', \n",
    "    13: 'Amazonas', \n",
    "    14: 'Roraima', \n",
    "    15: 'Pará', \n",
    "    16: 'Amapá', \n",
    "    17: 'Tocantins', \n",
    "    21: 'Maranhão', \n",
    "    22: 'Piauí', \n",
    "    23: 'Ceará', \n",
    "    24: 'Rio Grande do Norte', \n",
    "    25: 'Paraíba', \n",
    "    26: 'Pernambuco', \n",
    "    27: 'Alagoas', \n",
    "    28: 'Sergipe', \n",
    "    29: 'Bahia', \n",
    "    31: 'Minas Gerais', \n",
    "    32: 'Espírito Santo', \n",
    "    33: 'Rio de Janeiro', \n",
    "    35: 'São Paulo', \n",
    "    41: 'Paraná', \n",
    "    42: 'Santa Catarina', \n",
    "    43: 'Rio Grande do Sul', \n",
    "    50: 'Mato Grosso do Sul', \n",
    "    51: 'Mato Grosso', \n",
    "    52: 'Goiás', \n",
    "    53: 'Distrito Federal'\n",
    "}"
   ]
  },
  {
   "cell_type": "code",
   "execution_count": 21,
   "metadata": {
    "colab": {},
    "colab_type": "code",
    "id": "KbeFXAGSTg2K"
   },
   "outputs": [
    {
     "data": {
      "text/html": [
       "<div>\n",
       "<style scoped>\n",
       "    .dataframe tbody tr th:only-of-type {\n",
       "        vertical-align: middle;\n",
       "    }\n",
       "\n",
       "    .dataframe tbody tr th {\n",
       "        vertical-align: top;\n",
       "    }\n",
       "\n",
       "    .dataframe thead th {\n",
       "        text-align: right;\n",
       "    }\n",
       "</style>\n",
       "<table border=\"1\" class=\"dataframe\">\n",
       "  <thead>\n",
       "    <tr style=\"text-align: right;\">\n",
       "      <th>Cor</th>\n",
       "      <th>0</th>\n",
       "      <th>2</th>\n",
       "      <th>4</th>\n",
       "      <th>6</th>\n",
       "      <th>8</th>\n",
       "    </tr>\n",
       "    <tr>\n",
       "      <th>Sexo</th>\n",
       "      <th></th>\n",
       "      <th></th>\n",
       "      <th></th>\n",
       "      <th></th>\n",
       "      <th></th>\n",
       "    </tr>\n",
       "  </thead>\n",
       "  <tbody>\n",
       "    <tr>\n",
       "      <th>0</th>\n",
       "      <td>256</td>\n",
       "      <td>22194</td>\n",
       "      <td>5502</td>\n",
       "      <td>235</td>\n",
       "      <td>25063</td>\n",
       "    </tr>\n",
       "    <tr>\n",
       "      <th>1</th>\n",
       "      <td>101</td>\n",
       "      <td>9621</td>\n",
       "      <td>2889</td>\n",
       "      <td>117</td>\n",
       "      <td>10862</td>\n",
       "    </tr>\n",
       "  </tbody>\n",
       "</table>\n",
       "</div>"
      ],
      "text/plain": [
       "Cor     0      2     4    6      8\n",
       "Sexo                              \n",
       "0     256  22194  5502  235  25063\n",
       "1     101   9621  2889  117  10862"
      ]
     },
     "execution_count": 21,
     "metadata": {},
     "output_type": "execute_result"
    }
   ],
   "source": [
    "frequencia = pd.crosstab(dados['Sexo'],dados['Cor'])\n",
    "frequencia"
   ]
  },
  {
   "cell_type": "code",
   "execution_count": 22,
   "metadata": {
    "colab": {},
    "colab_type": "code",
    "id": "csL1jaeSTg2M"
   },
   "outputs": [
    {
     "data": {
      "text/html": [
       "<div>\n",
       "<style scoped>\n",
       "    .dataframe tbody tr th:only-of-type {\n",
       "        vertical-align: middle;\n",
       "    }\n",
       "\n",
       "    .dataframe tbody tr th {\n",
       "        vertical-align: top;\n",
       "    }\n",
       "\n",
       "    .dataframe thead th {\n",
       "        text-align: right;\n",
       "    }\n",
       "</style>\n",
       "<table border=\"1\" class=\"dataframe\">\n",
       "  <thead>\n",
       "    <tr style=\"text-align: right;\">\n",
       "      <th>Cor</th>\n",
       "      <th>Indígena</th>\n",
       "      <th>Branca</th>\n",
       "      <th>Preta</th>\n",
       "      <th>Amarela</th>\n",
       "      <th>Parda</th>\n",
       "    </tr>\n",
       "    <tr>\n",
       "      <th>Sexo</th>\n",
       "      <th></th>\n",
       "      <th></th>\n",
       "      <th></th>\n",
       "      <th></th>\n",
       "      <th></th>\n",
       "    </tr>\n",
       "  </thead>\n",
       "  <tbody>\n",
       "    <tr>\n",
       "      <th>Masculino</th>\n",
       "      <td>256</td>\n",
       "      <td>22194</td>\n",
       "      <td>5502</td>\n",
       "      <td>235</td>\n",
       "      <td>25063</td>\n",
       "    </tr>\n",
       "    <tr>\n",
       "      <th>Feminino</th>\n",
       "      <td>101</td>\n",
       "      <td>9621</td>\n",
       "      <td>2889</td>\n",
       "      <td>117</td>\n",
       "      <td>10862</td>\n",
       "    </tr>\n",
       "  </tbody>\n",
       "</table>\n",
       "</div>"
      ],
      "text/plain": [
       "Cor        Indígena  Branca  Preta  Amarela  Parda\n",
       "Sexo                                              \n",
       "Masculino       256   22194   5502      235  25063\n",
       "Feminino        101    9621   2889      117  10862"
      ]
     },
     "execution_count": 22,
     "metadata": {},
     "output_type": "execute_result"
    }
   ],
   "source": [
    "frequencia.rename(index = sexo, columns = cor,inplace=True)\n",
    "frequencia"
   ]
  },
  {
   "cell_type": "code",
   "execution_count": 23,
   "metadata": {},
   "outputs": [
    {
     "data": {
      "text/html": [
       "<div>\n",
       "<style scoped>\n",
       "    .dataframe tbody tr th:only-of-type {\n",
       "        vertical-align: middle;\n",
       "    }\n",
       "\n",
       "    .dataframe tbody tr th {\n",
       "        vertical-align: top;\n",
       "    }\n",
       "\n",
       "    .dataframe thead th {\n",
       "        text-align: right;\n",
       "    }\n",
       "</style>\n",
       "<table border=\"1\" class=\"dataframe\">\n",
       "  <thead>\n",
       "    <tr style=\"text-align: right;\">\n",
       "      <th>Cor</th>\n",
       "      <th>Indígena</th>\n",
       "      <th>Branca</th>\n",
       "      <th>Preta</th>\n",
       "      <th>Amarela</th>\n",
       "      <th>Parda</th>\n",
       "    </tr>\n",
       "    <tr>\n",
       "      <th>Sexo</th>\n",
       "      <th></th>\n",
       "      <th></th>\n",
       "      <th></th>\n",
       "      <th></th>\n",
       "      <th></th>\n",
       "    </tr>\n",
       "  </thead>\n",
       "  <tbody>\n",
       "    <tr>\n",
       "      <th>Masculino</th>\n",
       "      <td>0.333160</td>\n",
       "      <td>28.883394</td>\n",
       "      <td>7.160333</td>\n",
       "      <td>0.305830</td>\n",
       "      <td>32.617126</td>\n",
       "    </tr>\n",
       "    <tr>\n",
       "      <th>Feminino</th>\n",
       "      <td>0.131442</td>\n",
       "      <td>12.520822</td>\n",
       "      <td>3.759761</td>\n",
       "      <td>0.152264</td>\n",
       "      <td>14.135867</td>\n",
       "    </tr>\n",
       "  </tbody>\n",
       "</table>\n",
       "</div>"
      ],
      "text/plain": [
       "Cor        Indígena     Branca     Preta   Amarela      Parda\n",
       "Sexo                                                         \n",
       "Masculino  0.333160  28.883394  7.160333  0.305830  32.617126\n",
       "Feminino   0.131442  12.520822  3.759761  0.152264  14.135867"
      ]
     },
     "execution_count": 23,
     "metadata": {},
     "output_type": "execute_result"
    }
   ],
   "source": [
    "percentual = pd.crosstab(dados.Sexo,\n",
    "                         dados.Cor,\n",
    "                         normalize = True) * 100\n",
    "\n",
    "percentual.rename(index = sexo, columns = cor, inplace = True)\n",
    "percentual"
   ]
  },
  {
   "cell_type": "code",
   "execution_count": 25,
   "metadata": {},
   "outputs": [
    {
     "data": {
      "image/png": "[encoded data removed]",
      "text/plain": [
       "<Figure size 432x288 with 1 Axes>"
      ]
     },
     "metadata": {
      "needs_background": "light"
     },
     "output_type": "display_data"
    }
   ],
   "source": [
    "frequencia.plot.bar(stacked=True)\n",
    "plt.legend(title='Sexo')\n",
    "\n",
    "plt.show()"
   ]
  },
  {
   "cell_type": "code",
   "execution_count": 26,
   "metadata": {},
   "outputs": [
    {
     "data": {
      "text/plain": [
       "Sexo       Cor     \n",
       "Masculino  Indígena      256\n",
       "           Branca      22194\n",
       "           Preta        5502\n",
       "           Amarela       235\n",
       "           Parda       25063\n",
       "Feminino   Indígena      101\n",
       "           Branca       9621\n",
       "           Preta        2889\n",
       "           Amarela       117\n",
       "           Parda       10862\n",
       "dtype: int64"
      ]
     },
     "execution_count": 26,
     "metadata": {},
     "output_type": "execute_result"
    }
   ],
   "source": [
    "frequencia.stack()"
   ]
  },
  {
   "cell_type": "code",
   "execution_count": 27,
   "metadata": {},
   "outputs": [
    {
     "data": {
      "text/plain": [
       "<matplotlib.axes._subplots.AxesSubplot at 0x27e8509a208>"
      ]
     },
     "execution_count": 27,
     "metadata": {},
     "output_type": "execute_result"
    },
    {
     "data": {
      "image/png": "[encoded data removed]",
      "text/plain": [
       "<Figure size 432x288 with 1 Axes>"
      ]
     },
     "metadata": {
      "needs_background": "light"
     },
     "output_type": "display_data"
    }
   ],
   "source": [
    "# now stack and reset\n",
    "stacked = frequencia.stack().reset_index().rename(columns={0:'value'})\n",
    "\n",
    "# plot grouped bar chart\n",
    "sns.barplot(x=stacked.Cor, y=stacked.value, hue=stacked.Sexo)"
   ]
  },
  {
   "cell_type": "markdown",
   "metadata": {
    "colab_type": "text",
    "id": "2jLZmww2Tg2O"
   },
   "source": [
    "> ### Conclusões\n",
    "\n",
    "Escreva suas conclusões aqui..."
   ]
  },
  {
   "cell_type": "markdown",
   "metadata": {
    "colab_type": "text",
    "id": "Aoeayf6zTg2P"
   },
   "source": [
    "## Realize, para a variável RENDA, uma análise descritiva com as ferramentas que aprendemos em nosso treinamento"
   ]
  },
  {
   "cell_type": "markdown",
   "metadata": {
    "colab_type": "text",
    "id": "c2CtT71oTg2P"
   },
   "source": [
    "### Obtenha a média aritimética"
   ]
  },
  {
   "cell_type": "code",
   "execution_count": 28,
   "metadata": {
    "colab": {},
    "colab_type": "code",
    "id": "qlJESCU6Tg2P"
   },
   "outputs": [
    {
     "data": {
      "text/plain": [
       "2000.3831988547631"
      ]
     },
     "execution_count": 28,
     "metadata": {},
     "output_type": "execute_result"
    }
   ],
   "source": [
    "dados['Renda'].mean()"
   ]
  },
  {
   "cell_type": "markdown",
   "metadata": {
    "colab_type": "text",
    "id": "Xd4saPBCTg2R"
   },
   "source": [
    "### Obtenha a mediana"
   ]
  },
  {
   "cell_type": "code",
   "execution_count": 29,
   "metadata": {
    "colab": {},
    "colab_type": "code",
    "id": "vHTqX-UATg2R"
   },
   "outputs": [
    {
     "data": {
      "text/plain": [
       "1200.0"
      ]
     },
     "execution_count": 29,
     "metadata": {},
     "output_type": "execute_result"
    }
   ],
   "source": [
    "dados['Renda'].median()"
   ]
  },
  {
   "cell_type": "markdown",
   "metadata": {
    "colab_type": "text",
    "id": "_e40rDSwTg2U"
   },
   "source": [
    "### Obtenha a moda"
   ]
  },
  {
   "cell_type": "code",
   "execution_count": 30,
   "metadata": {
    "colab": {},
    "colab_type": "code",
    "id": "BFOOdYOvTg2V"
   },
   "outputs": [
    {
     "data": {
      "text/plain": [
       "0    788\n",
       "dtype: int64"
      ]
     },
     "execution_count": 30,
     "metadata": {},
     "output_type": "execute_result"
    }
   ],
   "source": [
    "dados.Renda.mode()"
   ]
  },
  {
   "cell_type": "markdown",
   "metadata": {
    "colab_type": "text",
    "id": "Rnr1gOCMTg2X"
   },
   "source": [
    "### Obtenha o desvio médio absoluto"
   ]
  },
  {
   "cell_type": "code",
   "execution_count": 31,
   "metadata": {
    "colab": {},
    "colab_type": "code",
    "id": "TmE_1QDGTg2Y"
   },
   "outputs": [
    {
     "data": {
      "text/plain": [
       "1526.4951371644931"
      ]
     },
     "execution_count": 31,
     "metadata": {},
     "output_type": "execute_result"
    }
   ],
   "source": [
    "dados.Renda.mad()"
   ]
  },
  {
   "cell_type": "markdown",
   "metadata": {
    "colab_type": "text",
    "id": "hCgV_XaQTg2Z"
   },
   "source": [
    "### Obtenha a variância"
   ]
  },
  {
   "cell_type": "code",
   "execution_count": 32,
   "metadata": {
    "colab": {},
    "colab_type": "code",
    "id": "SwRgACeGTg2a"
   },
   "outputs": [
    {
     "data": {
      "text/plain": [
       "11044906.00622118"
      ]
     },
     "execution_count": 32,
     "metadata": {},
     "output_type": "execute_result"
    }
   ],
   "source": [
    "dados.Renda.var()"
   ]
  },
  {
   "cell_type": "markdown",
   "metadata": {
    "colab_type": "text",
    "id": "gsO6MKOcTg2c"
   },
   "source": [
    "### Obtenha o desvio-padrão"
   ]
  },
  {
   "cell_type": "code",
   "execution_count": 33,
   "metadata": {
    "colab": {},
    "colab_type": "code",
    "id": "gR-LVTRYTg2d"
   },
   "outputs": [
    {
     "data": {
      "text/plain": [
       "3323.3877303470294"
      ]
     },
     "execution_count": 33,
     "metadata": {},
     "output_type": "execute_result"
    }
   ],
   "source": [
    "dados.Renda.std()"
   ]
  },
  {
   "cell_type": "markdown",
   "metadata": {
    "colab_type": "text",
    "id": "vG-rdO5fTg2f"
   },
   "source": [
    "### Obtenha a média, mediana e valor máximo da variável RENDA segundo SEXO e COR\n",
    "#### <font color='blue'>Destaque os pontos mais importante que você observa nas tabulações</font>\n",
    "#### <font color='red'>O parâmento <i>aggfunc</i> da função <i>crosstab()</i> pode receber uma lista de funções. Exemplo: <i>aggfunc = {'mean', 'median', 'max'}</i></font>"
   ]
  },
  {
   "cell_type": "code",
   "execution_count": 34,
   "metadata": {
    "colab": {},
    "colab_type": "code",
    "id": "VgxygKWXTg2g"
   },
   "outputs": [
    {
     "data": {
      "text/html": [
       "<div>\n",
       "<style scoped>\n",
       "    .dataframe tbody tr th:only-of-type {\n",
       "        vertical-align: middle;\n",
       "    }\n",
       "\n",
       "    .dataframe tbody tr th {\n",
       "        vertical-align: top;\n",
       "    }\n",
       "\n",
       "    .dataframe thead tr th {\n",
       "        text-align: left;\n",
       "    }\n",
       "\n",
       "    .dataframe thead tr:last-of-type th {\n",
       "        text-align: right;\n",
       "    }\n",
       "</style>\n",
       "<table border=\"1\" class=\"dataframe\">\n",
       "  <thead>\n",
       "    <tr>\n",
       "      <th></th>\n",
       "      <th colspan=\"5\" halign=\"left\">max</th>\n",
       "      <th colspan=\"5\" halign=\"left\">mean</th>\n",
       "      <th colspan=\"5\" halign=\"left\">median</th>\n",
       "    </tr>\n",
       "    <tr>\n",
       "      <th>Cor</th>\n",
       "      <th>Indígena</th>\n",
       "      <th>Branca</th>\n",
       "      <th>Preta</th>\n",
       "      <th>Amarela</th>\n",
       "      <th>Parda</th>\n",
       "      <th>Indígena</th>\n",
       "      <th>Branca</th>\n",
       "      <th>Preta</th>\n",
       "      <th>Amarela</th>\n",
       "      <th>Parda</th>\n",
       "      <th>Indígena</th>\n",
       "      <th>Branca</th>\n",
       "      <th>Preta</th>\n",
       "      <th>Amarela</th>\n",
       "      <th>Parda</th>\n",
       "    </tr>\n",
       "    <tr>\n",
       "      <th>Sexo</th>\n",
       "      <th></th>\n",
       "      <th></th>\n",
       "      <th></th>\n",
       "      <th></th>\n",
       "      <th></th>\n",
       "      <th></th>\n",
       "      <th></th>\n",
       "      <th></th>\n",
       "      <th></th>\n",
       "      <th></th>\n",
       "      <th></th>\n",
       "      <th></th>\n",
       "      <th></th>\n",
       "      <th></th>\n",
       "      <th></th>\n",
       "    </tr>\n",
       "  </thead>\n",
       "  <tbody>\n",
       "    <tr>\n",
       "      <th>Masculino</th>\n",
       "      <td>10000.0</td>\n",
       "      <td>200000.0</td>\n",
       "      <td>50000.0</td>\n",
       "      <td>50000.0</td>\n",
       "      <td>100000.0</td>\n",
       "      <td>1081.710938</td>\n",
       "      <td>2925.744435</td>\n",
       "      <td>1603.861687</td>\n",
       "      <td>4758.251064</td>\n",
       "      <td>1659.577425</td>\n",
       "      <td>797.5</td>\n",
       "      <td>1700.0</td>\n",
       "      <td>1200.0</td>\n",
       "      <td>2800.0</td>\n",
       "      <td>1200.0</td>\n",
       "    </tr>\n",
       "    <tr>\n",
       "      <th>Feminino</th>\n",
       "      <td>120000.0</td>\n",
       "      <td>100000.0</td>\n",
       "      <td>23000.0</td>\n",
       "      <td>20000.0</td>\n",
       "      <td>30000.0</td>\n",
       "      <td>2464.386139</td>\n",
       "      <td>2109.866750</td>\n",
       "      <td>1134.596400</td>\n",
       "      <td>3027.341880</td>\n",
       "      <td>1176.758516</td>\n",
       "      <td>788.0</td>\n",
       "      <td>1200.0</td>\n",
       "      <td>800.0</td>\n",
       "      <td>1500.0</td>\n",
       "      <td>800.0</td>\n",
       "    </tr>\n",
       "  </tbody>\n",
       "</table>\n",
       "</div>"
      ],
      "text/plain": [
       "                max                                               mean  \\\n",
       "Cor        Indígena    Branca    Preta  Amarela     Parda     Indígena   \n",
       "Sexo                                                                     \n",
       "Masculino   10000.0  200000.0  50000.0  50000.0  100000.0  1081.710938   \n",
       "Feminino   120000.0  100000.0  23000.0  20000.0   30000.0  2464.386139   \n",
       "\n",
       "                                                                median  \\\n",
       "Cor             Branca        Preta      Amarela        Parda Indígena   \n",
       "Sexo                                                                     \n",
       "Masculino  2925.744435  1603.861687  4758.251064  1659.577425    797.5   \n",
       "Feminino   2109.866750  1134.596400  3027.341880  1176.758516    788.0   \n",
       "\n",
       "                                           \n",
       "Cor        Branca   Preta Amarela   Parda  \n",
       "Sexo                                       \n",
       "Masculino  1700.0  1200.0  2800.0  1200.0  \n",
       "Feminino   1200.0   800.0  1500.0   800.0  "
      ]
     },
     "execution_count": 34,
     "metadata": {},
     "output_type": "execute_result"
    }
   ],
   "source": [
    "med_centrais = pd.crosstab(dados.Sexo,\n",
    "                         dados.Cor,\n",
    "                         aggfunc = {'mean', 'median', 'max'},\n",
    "                         values = dados.Renda)\n",
    "med_centrais.rename(index = sexo, inplace = True)\n",
    "med_centrais.rename(columns = cor, inplace = True)\n",
    "med_centrais"
   ]
  },
  {
   "cell_type": "code",
   "execution_count": 35,
   "metadata": {},
   "outputs": [
    {
     "data": {
      "text/plain": [
       "<matplotlib.axes._subplots.AxesSubplot at 0x27e84fbeb08>"
      ]
     },
     "execution_count": 35,
     "metadata": {},
     "output_type": "execute_result"
    },
    {
     "data": {
      "image/png": "[encoded data removed]",
      "text/plain": [
       "<Figure size 432x288 with 1 Axes>"
      ]
     },
     "metadata": {
      "needs_background": "light"
     },
     "output_type": "display_data"
    }
   ],
   "source": [
    "# now stack and reset\n",
    "stacked = med_centrais.stack().reset_index()\n",
    "\n",
    "# plot grouped bar chart\n",
    "sns.barplot(x=stacked.Cor, y=stacked['max'], hue=stacked.Sexo)\n"
   ]
  },
  {
   "cell_type": "code",
   "execution_count": 38,
   "metadata": {},
   "outputs": [
    {
     "data": {
      "text/plain": [
       "Text(0.5, 1.0, 'Mediana da renda')"
      ]
     },
     "execution_count": 38,
     "metadata": {},
     "output_type": "execute_result"
    }
   ],
   "source": [
    "plt.rc('figure', figsize = (15,8))\n",
    "\n",
    "#Criando a area dos gráficos\n",
    "area = plt.figure()\n",
    "\n",
    "#Diz o local que cada gráfico vai ficar\n",
    "#add primeiro grafico\n",
    "g1 = area.add_subplot(2,2,1)\n",
    "#add segundo grafico\n",
    "g2 = area.add_subplot(2,2,2)\n",
    "#add terceiro grafico\n",
    "g3 = area.add_subplot(2,2,3)\n",
    "#Preenche cada gráfico de acordo com seu tipo\n",
    "\n",
    "#gráfico 1 - scatterplot (dispersão)\n",
    "g1.bar(stacked.Cor,stacked['max'])\n",
    "g1.set_title('Renda máxima')\n",
    "\n",
    "#gráfico 2 - histograma\n",
    "g2.bar(stacked.Cor, stacked['mean'])\n",
    "g2.set_title('Renda média')\n",
    "\n",
    "#gráfico 3 - gráfico de linha, apresenta algumas amostras dos dados Valor\n",
    "g3.bar(stacked.Cor,stacked['median'])\n",
    "g3.set_title('Mediana da renda')\n",
    "\n"
   ]
  },
  {
   "cell_type": "code",
   "execution_count": 39,
   "metadata": {},
   "outputs": [
    {
     "data": {
      "image/png": "[encoded data removed]",
      "text/plain": [
       "<Figure size 1080x576 with 3 Axes>"
      ]
     },
     "execution_count": 39,
     "metadata": {},
     "output_type": "execute_result"
    }
   ],
   "source": [
    "area "
   ]
  },
  {
   "cell_type": "code",
   "execution_count": 40,
   "metadata": {},
   "outputs": [
    {
     "data": {
      "text/plain": [
       "Text(0.5, 1.0, 'Median')"
      ]
     },
     "execution_count": 40,
     "metadata": {},
     "output_type": "execute_result"
    },
    {
     "data": {
      "image/png": "[encoded data removed]",
      "text/plain": [
       "<Figure size 1008x720 with 3 Axes>"
      ]
     },
     "metadata": {
      "needs_background": "light"
     },
     "output_type": "display_data"
    }
   ],
   "source": [
    "# Set up the matplotlib figure\n",
    "f, (ax1, ax2, ax3) = plt.subplots(3, 1, figsize=(14, 10), sharex=True)\n",
    "\n",
    "# Gera um gráfico de barras para o valor maximo de renda por cor e sexo\n",
    "sns.barplot(x=stacked.Cor, y=stacked['max'], hue=stacked.Sexo, ax = ax1)\n",
    "ax1.axhline(0, color=\"k\", clip_on=False)\n",
    "ax1.set_title(\"Max\")\n",
    "\n",
    "# Gera um gráfico de barras para o valor médio de renda por cor e sexoe it diverging\n",
    "sns.barplot(x=stacked.Cor, y=stacked['mean'], hue=stacked.Sexo, ax = ax2)\n",
    "ax2.axhline(0, color=\"k\", clip_on=False)\n",
    "ax2.set_title(\"Mean\")\n",
    "\n",
    "# Gera um gráfico de barras para a mediana de renda por cor e sexo\n",
    "sns.barplot(x=stacked.Cor, y=stacked['median'], hue=stacked.Sexo, ax = ax3)\n",
    "ax3.axhline(0, color=\"k\", clip_on=False)\n",
    "ax3.set_title(\"Median\")\n",
    "\n"
   ]
  },
  {
   "cell_type": "markdown",
   "metadata": {
    "colab_type": "text",
    "id": "ibndm9iwTg2i"
   },
   "source": [
    "> ### Conclusões\n",
    "\n",
    "Escreva suas conclusões aqui..."
   ]
  },
  {
   "cell_type": "markdown",
   "metadata": {
    "colab_type": "text",
    "id": "CleJ6c1rTg2i"
   },
   "source": [
    "### Obtenha as medidas de dispersão da variável RENDA segundo SEXO e COR\n",
    "#### <font color='blue'>Destaque os pontos mais importante que você observa nas tabulações</font>\n",
    "#### <font color='red'>O parâmento <i>aggfunc</i> da função <i>crosstab()</i> pode receber uma lista de funções. Exemplo: <i>aggfunc = {'mad', 'var', 'std'}</i></font>"
   ]
  },
  {
   "cell_type": "code",
   "execution_count": 41,
   "metadata": {
    "colab": {},
    "colab_type": "code",
    "id": "bNv-eWZ3Tg2j"
   },
   "outputs": [
    {
     "data": {
      "text/html": [
       "<div>\n",
       "<style scoped>\n",
       "    .dataframe tbody tr th:only-of-type {\n",
       "        vertical-align: middle;\n",
       "    }\n",
       "\n",
       "    .dataframe tbody tr th {\n",
       "        vertical-align: top;\n",
       "    }\n",
       "\n",
       "    .dataframe thead tr th {\n",
       "        text-align: left;\n",
       "    }\n",
       "\n",
       "    .dataframe thead tr:last-of-type th {\n",
       "        text-align: right;\n",
       "    }\n",
       "</style>\n",
       "<table border=\"1\" class=\"dataframe\">\n",
       "  <thead>\n",
       "    <tr>\n",
       "      <th></th>\n",
       "      <th colspan=\"5\" halign=\"left\">mad</th>\n",
       "      <th colspan=\"5\" halign=\"left\">std</th>\n",
       "      <th colspan=\"5\" halign=\"left\">var</th>\n",
       "    </tr>\n",
       "    <tr>\n",
       "      <th>Cor</th>\n",
       "      <th>Indígena</th>\n",
       "      <th>Branca</th>\n",
       "      <th>Preta</th>\n",
       "      <th>Amarela</th>\n",
       "      <th>Parda</th>\n",
       "      <th>Indígena</th>\n",
       "      <th>Branca</th>\n",
       "      <th>Preta</th>\n",
       "      <th>Amarela</th>\n",
       "      <th>Parda</th>\n",
       "      <th>Indígena</th>\n",
       "      <th>Branca</th>\n",
       "      <th>Preta</th>\n",
       "      <th>Amarela</th>\n",
       "      <th>Parda</th>\n",
       "    </tr>\n",
       "    <tr>\n",
       "      <th>Sexo</th>\n",
       "      <th></th>\n",
       "      <th></th>\n",
       "      <th></th>\n",
       "      <th></th>\n",
       "      <th></th>\n",
       "      <th></th>\n",
       "      <th></th>\n",
       "      <th></th>\n",
       "      <th></th>\n",
       "      <th></th>\n",
       "      <th></th>\n",
       "      <th></th>\n",
       "      <th></th>\n",
       "      <th></th>\n",
       "      <th></th>\n",
       "    </tr>\n",
       "  </thead>\n",
       "  <tbody>\n",
       "    <tr>\n",
       "      <th>Masculino</th>\n",
       "      <td>798.910889</td>\n",
       "      <td>2261.012346</td>\n",
       "      <td>975.602482</td>\n",
       "      <td>3709.597211</td>\n",
       "      <td>1125.827704</td>\n",
       "      <td>1204.093490</td>\n",
       "      <td>4750.791872</td>\n",
       "      <td>1936.309271</td>\n",
       "      <td>5740.82482</td>\n",
       "      <td>2312.087184</td>\n",
       "      <td>1.449841e+06</td>\n",
       "      <td>2.257002e+07</td>\n",
       "      <td>3.749294e+06</td>\n",
       "      <td>3.295707e+07</td>\n",
       "      <td>5.345747e+06</td>\n",
       "    </tr>\n",
       "    <tr>\n",
       "      <th>Feminino</th>\n",
       "      <td>3007.892952</td>\n",
       "      <td>1670.967106</td>\n",
       "      <td>705.453357</td>\n",
       "      <td>2549.146322</td>\n",
       "      <td>811.580946</td>\n",
       "      <td>11957.498292</td>\n",
       "      <td>3251.013154</td>\n",
       "      <td>1349.799809</td>\n",
       "      <td>3731.17366</td>\n",
       "      <td>1596.233048</td>\n",
       "      <td>1.429818e+08</td>\n",
       "      <td>1.056909e+07</td>\n",
       "      <td>1.821960e+06</td>\n",
       "      <td>1.392166e+07</td>\n",
       "      <td>2.547960e+06</td>\n",
       "    </tr>\n",
       "  </tbody>\n",
       "</table>\n",
       "</div>"
      ],
      "text/plain": [
       "                   mad                                                     \\\n",
       "Cor           Indígena       Branca       Preta      Amarela        Parda   \n",
       "Sexo                                                                        \n",
       "Masculino   798.910889  2261.012346  975.602482  3709.597211  1125.827704   \n",
       "Feminino   3007.892952  1670.967106  705.453357  2549.146322   811.580946   \n",
       "\n",
       "                    std                                                     \\\n",
       "Cor            Indígena       Branca        Preta     Amarela        Parda   \n",
       "Sexo                                                                         \n",
       "Masculino   1204.093490  4750.791872  1936.309271  5740.82482  2312.087184   \n",
       "Feminino   11957.498292  3251.013154  1349.799809  3731.17366  1596.233048   \n",
       "\n",
       "                    var                                            \\\n",
       "Cor            Indígena        Branca         Preta       Amarela   \n",
       "Sexo                                                                \n",
       "Masculino  1.449841e+06  2.257002e+07  3.749294e+06  3.295707e+07   \n",
       "Feminino   1.429818e+08  1.056909e+07  1.821960e+06  1.392166e+07   \n",
       "\n",
       "                         \n",
       "Cor               Parda  \n",
       "Sexo                     \n",
       "Masculino  5.345747e+06  \n",
       "Feminino   2.547960e+06  "
      ]
     },
     "execution_count": 41,
     "metadata": {},
     "output_type": "execute_result"
    }
   ],
   "source": [
    "dispersao = pd.crosstab(dados.Sexo,\n",
    "                         dados.Cor,\n",
    "                         aggfunc = {'mad','var','std'},\n",
    "                         values = dados.Renda)\n",
    "dispersao.rename(index = sexo, inplace = True)\n",
    "dispersao.rename(columns = cor, inplace = True)\n",
    "dispersao"
   ]
  },
  {
   "cell_type": "markdown",
   "metadata": {
    "colab_type": "text",
    "id": "57aHvJMSTg2l"
   },
   "source": [
    "> ### Conclusões\n",
    "\n",
    "Escreva suas conclusões aqui..."
   ]
  },
  {
   "cell_type": "markdown",
   "metadata": {
    "colab_type": "text",
    "id": "QSYjkdyOTg2l"
   },
   "source": [
    "### Construa um box plot da variável RENDA segundo SEXO e COR\n",
    "#### <font color='blue'>É possível verificar algum comportamento diferenciado no rendimento entre os grupos de pessoas analisados? Avalie o gráfico e destaque os pontos mais importantes.</font>\n",
    "#### <font color='red'>1º - Utilize somente as informações de pessoas com renda abaixo de R$ 10.000</font>\n",
    "#### <font color='red'>2º - Para incluir uma terceira variável na construção de um boxplot utilize o parâmetro <i>hue</i> e indique a variável que quer incluir na subdivisão.</font>\n",
    "#### Mais informações: https://seaborn.pydata.org/generated/seaborn.boxplot.html"
   ]
  },
  {
   "cell_type": "code",
   "execution_count": 56,
   "metadata": {
    "colab": {},
    "colab_type": "code",
    "id": "8hGa4SMRTg2m"
   },
   "outputs": [
    {
     "data": {
      "text/plain": [
       "<matplotlib.axes._subplots.AxesSubplot at 0x27e87ff2808>"
      ]
     },
     "execution_count": 56,
     "metadata": {},
     "output_type": "execute_result"
    },
    {
     "data": {
      "image/png": "[encoded data removed]",
      "text/plain": [
       "<Figure size 1080x576 with 1 Axes>"
      ]
     },
     "metadata": {
      "needs_background": "light"
     },
     "output_type": "display_data"
    }
   ],
   "source": [
    "dados['Sexo'].replace({0: 'Masculino', 1: 'Feminino'}, inplace = True)\n",
    "dados['Cor'].replace({0: 'Indígena', 2: 'Branca', 4: 'Preta', 6: 'Amarela', 8: 'Parda', 9: 'Sem declaração'},inplace = True)\n",
    "\n",
    "teste = dados[dados['Renda'] < 10000]\n",
    "\n",
    "sns.boxplot(x= teste.Cor, y= teste.Renda, hue= teste.Sexo, data= teste, palette=\"Set3\")\n"
   ]
  },
  {
   "cell_type": "markdown",
   "metadata": {
    "colab_type": "text",
    "id": "ROiIQRFhTg2o"
   },
   "source": [
    "> ### Conclusões\n",
    "\n",
    "Escreva suas conclusões aqui..."
   ]
  },
  {
   "cell_type": "markdown",
   "metadata": {
    "colab_type": "text",
    "id": "zi4BaGooTg2o"
   },
   "source": [
    "# <font color=\"red\">DESAFIO<font>\n",
    "### Qual percentual de pessoas de nosso <i>dataset</i> ganham um salário mínimo (R$ 788,00) ou menos?\n",
    "#### <font color='red'>Utilize a função <i>percentileofscore()</i> do <i>scipy</i> para realizar estas análises.</font>\n",
    "#### Mais informações: https://docs.scipy.org/doc/scipy/reference/generated/scipy.stats.percentileofscore.html\n"
   ]
  },
  {
   "cell_type": "code",
   "execution_count": 61,
   "metadata": {
    "colab": {},
    "colab_type": "code",
    "id": "9DwXo2yITg2p"
   },
   "outputs": [
    {
     "data": {
      "text/plain": [
       "28.86777719937533"
      ]
     },
     "execution_count": 61,
     "metadata": {},
     "output_type": "execute_result"
    }
   ],
   "source": [
    "from scipy import stats\n",
    "\n",
    "stats.percentileofscore(dados.Renda, 788, kind = 'weak')"
   ]
  },
  {
   "cell_type": "markdown",
   "metadata": {},
   "source": [
    "28,86 % das pessoas ganham um salário minimo ou menos. "
   ]
  },
  {
   "cell_type": "markdown",
   "metadata": {
    "colab_type": "text",
    "id": "bl0fOMuKTg2q"
   },
   "source": [
    "### Qual o valor máximo ganho por 99% das pessoas de nosso <i>dataset</i>?\n",
    "#### <font color='red'>Utilize o método <i>quantile()</i> do <i>pandas</i> para realizar estas análises.</font>"
   ]
  },
  {
   "cell_type": "code",
   "execution_count": 64,
   "metadata": {
    "colab": {},
    "colab_type": "code",
    "id": "cIVwy8bKTg2q"
   },
   "outputs": [
    {
     "name": "stdout",
     "output_type": "stream",
     "text": [
      "99% das pessoas ganham até 15000.0 reais\n"
     ]
    }
   ],
   "source": [
    "print('99% das pessoas ganham até {} reais'.format(dados['Renda'].quantile(0.99)))"
   ]
  },
  {
   "cell_type": "markdown",
   "metadata": {
    "colab_type": "text",
    "id": "zeRhvtngTg2r"
   },
   "source": [
    "### Obtenha a média, mediana, valor máximo e desvio-padrão da variável RENDA segundo ANOS DE ESTUDO e SEXO\n",
    "#### <font color='blue'>Destaque os pontos mais importante que você observa nas tabulações</font>\n",
    "#### <font color='red'>O parâmento <i>aggfunc</i> da função <i>crosstab()</i> pode receber uma lista de funções. Exemplo: <i>aggfunc = ['mean', 'median', 'max', 'std']</i></font>"
   ]
  },
  {
   "cell_type": "code",
   "execution_count": 66,
   "metadata": {
    "colab": {},
    "colab_type": "code",
    "id": "8nxGdQIpTg2s"
   },
   "outputs": [
    {
     "data": {
      "text/html": [
       "<div>\n",
       "<style scoped>\n",
       "    .dataframe tbody tr th:only-of-type {\n",
       "        vertical-align: middle;\n",
       "    }\n",
       "\n",
       "    .dataframe tbody tr th {\n",
       "        vertical-align: top;\n",
       "    }\n",
       "\n",
       "    .dataframe thead tr th {\n",
       "        text-align: left;\n",
       "    }\n",
       "\n",
       "    .dataframe thead tr:last-of-type th {\n",
       "        text-align: right;\n",
       "    }\n",
       "</style>\n",
       "<table border=\"1\" class=\"dataframe\">\n",
       "  <thead>\n",
       "    <tr>\n",
       "      <th></th>\n",
       "      <th colspan=\"2\" halign=\"left\">max</th>\n",
       "      <th colspan=\"2\" halign=\"left\">mean</th>\n",
       "      <th colspan=\"2\" halign=\"left\">median</th>\n",
       "      <th colspan=\"2\" halign=\"left\">std</th>\n",
       "    </tr>\n",
       "    <tr>\n",
       "      <th>Sexo</th>\n",
       "      <th>Feminino</th>\n",
       "      <th>Masculino</th>\n",
       "      <th>Feminino</th>\n",
       "      <th>Masculino</th>\n",
       "      <th>Feminino</th>\n",
       "      <th>Masculino</th>\n",
       "      <th>Feminino</th>\n",
       "      <th>Masculino</th>\n",
       "    </tr>\n",
       "    <tr>\n",
       "      <th>Anos de Estudo</th>\n",
       "      <th></th>\n",
       "      <th></th>\n",
       "      <th></th>\n",
       "      <th></th>\n",
       "      <th></th>\n",
       "      <th></th>\n",
       "      <th></th>\n",
       "      <th></th>\n",
       "    </tr>\n",
       "  </thead>\n",
       "  <tbody>\n",
       "    <tr>\n",
       "      <th>1</th>\n",
       "      <td>10000.0</td>\n",
       "      <td>30000.0</td>\n",
       "      <td>516.201748</td>\n",
       "      <td>799.494638</td>\n",
       "      <td>390.0</td>\n",
       "      <td>700.0</td>\n",
       "      <td>639.311534</td>\n",
       "      <td>1023.904884</td>\n",
       "    </tr>\n",
       "    <tr>\n",
       "      <th>2</th>\n",
       "      <td>2000.0</td>\n",
       "      <td>30000.0</td>\n",
       "      <td>492.771987</td>\n",
       "      <td>895.629047</td>\n",
       "      <td>400.0</td>\n",
       "      <td>788.0</td>\n",
       "      <td>425.291842</td>\n",
       "      <td>1331.950552</td>\n",
       "    </tr>\n",
       "    <tr>\n",
       "      <th>3</th>\n",
       "      <td>4000.0</td>\n",
       "      <td>40000.0</td>\n",
       "      <td>529.911638</td>\n",
       "      <td>931.178986</td>\n",
       "      <td>450.0</td>\n",
       "      <td>788.0</td>\n",
       "      <td>498.234168</td>\n",
       "      <td>1435.173827</td>\n",
       "    </tr>\n",
       "    <tr>\n",
       "      <th>4</th>\n",
       "      <td>3500.0</td>\n",
       "      <td>80000.0</td>\n",
       "      <td>546.853916</td>\n",
       "      <td>1109.203862</td>\n",
       "      <td>500.0</td>\n",
       "      <td>800.0</td>\n",
       "      <td>424.124446</td>\n",
       "      <td>2143.800133</td>\n",
       "    </tr>\n",
       "    <tr>\n",
       "      <th>5</th>\n",
       "      <td>10000.0</td>\n",
       "      <td>50000.0</td>\n",
       "      <td>704.279111</td>\n",
       "      <td>1302.329283</td>\n",
       "      <td>788.0</td>\n",
       "      <td>1000.0</td>\n",
       "      <td>629.553397</td>\n",
       "      <td>1419.821787</td>\n",
       "    </tr>\n",
       "    <tr>\n",
       "      <th>6</th>\n",
       "      <td>8000.0</td>\n",
       "      <td>35000.0</td>\n",
       "      <td>781.389776</td>\n",
       "      <td>1338.653218</td>\n",
       "      <td>788.0</td>\n",
       "      <td>1045.0</td>\n",
       "      <td>635.782641</td>\n",
       "      <td>1484.650587</td>\n",
       "    </tr>\n",
       "    <tr>\n",
       "      <th>7</th>\n",
       "      <td>6000.0</td>\n",
       "      <td>25000.0</td>\n",
       "      <td>833.732824</td>\n",
       "      <td>1448.875419</td>\n",
       "      <td>788.0</td>\n",
       "      <td>1200.0</td>\n",
       "      <td>574.547028</td>\n",
       "      <td>1476.628602</td>\n",
       "    </tr>\n",
       "    <tr>\n",
       "      <th>8</th>\n",
       "      <td>9000.0</td>\n",
       "      <td>40000.0</td>\n",
       "      <td>830.751004</td>\n",
       "      <td>1465.497940</td>\n",
       "      <td>788.0</td>\n",
       "      <td>1200.0</td>\n",
       "      <td>602.038029</td>\n",
       "      <td>1419.708673</td>\n",
       "    </tr>\n",
       "    <tr>\n",
       "      <th>9</th>\n",
       "      <td>18000.0</td>\n",
       "      <td>30000.0</td>\n",
       "      <td>933.615351</td>\n",
       "      <td>1639.396667</td>\n",
       "      <td>800.0</td>\n",
       "      <td>1300.0</td>\n",
       "      <td>896.781213</td>\n",
       "      <td>1515.583715</td>\n",
       "    </tr>\n",
       "    <tr>\n",
       "      <th>10</th>\n",
       "      <td>20000.0</td>\n",
       "      <td>60000.0</td>\n",
       "      <td>868.021700</td>\n",
       "      <td>1508.038850</td>\n",
       "      <td>788.0</td>\n",
       "      <td>1200.0</td>\n",
       "      <td>973.221652</td>\n",
       "      <td>2137.664774</td>\n",
       "    </tr>\n",
       "    <tr>\n",
       "      <th>11</th>\n",
       "      <td>6000.0</td>\n",
       "      <td>45000.0</td>\n",
       "      <td>925.919225</td>\n",
       "      <td>1731.270847</td>\n",
       "      <td>800.0</td>\n",
       "      <td>1218.0</td>\n",
       "      <td>620.611907</td>\n",
       "      <td>2078.609734</td>\n",
       "    </tr>\n",
       "    <tr>\n",
       "      <th>12</th>\n",
       "      <td>100000.0</td>\n",
       "      <td>200000.0</td>\n",
       "      <td>1286.790889</td>\n",
       "      <td>2117.060504</td>\n",
       "      <td>1000.0</td>\n",
       "      <td>1500.0</td>\n",
       "      <td>1819.040417</td>\n",
       "      <td>2676.538942</td>\n",
       "    </tr>\n",
       "    <tr>\n",
       "      <th>13</th>\n",
       "      <td>120000.0</td>\n",
       "      <td>30000.0</td>\n",
       "      <td>1682.313725</td>\n",
       "      <td>2470.330776</td>\n",
       "      <td>1200.0</td>\n",
       "      <td>1800.0</td>\n",
       "      <td>4851.833513</td>\n",
       "      <td>2268.081538</td>\n",
       "    </tr>\n",
       "    <tr>\n",
       "      <th>14</th>\n",
       "      <td>20000.0</td>\n",
       "      <td>25000.0</td>\n",
       "      <td>1911.730047</td>\n",
       "      <td>3195.099154</td>\n",
       "      <td>1300.0</td>\n",
       "      <td>2400.0</td>\n",
       "      <td>2053.789771</td>\n",
       "      <td>2797.116800</td>\n",
       "    </tr>\n",
       "    <tr>\n",
       "      <th>15</th>\n",
       "      <td>20000.0</td>\n",
       "      <td>50000.0</td>\n",
       "      <td>2226.460457</td>\n",
       "      <td>3706.620269</td>\n",
       "      <td>1600.0</td>\n",
       "      <td>2500.0</td>\n",
       "      <td>2064.083336</td>\n",
       "      <td>3987.214974</td>\n",
       "    </tr>\n",
       "    <tr>\n",
       "      <th>16</th>\n",
       "      <td>100000.0</td>\n",
       "      <td>200000.0</td>\n",
       "      <td>3899.513231</td>\n",
       "      <td>6134.279790</td>\n",
       "      <td>2800.0</td>\n",
       "      <td>4000.0</td>\n",
       "      <td>4212.770709</td>\n",
       "      <td>7447.613594</td>\n",
       "    </tr>\n",
       "    <tr>\n",
       "      <th>17</th>\n",
       "      <td>3000.0</td>\n",
       "      <td>7000.0</td>\n",
       "      <td>798.174419</td>\n",
       "      <td>1295.761905</td>\n",
       "      <td>788.0</td>\n",
       "      <td>1200.0</td>\n",
       "      <td>459.985964</td>\n",
       "      <td>979.648745</td>\n",
       "    </tr>\n",
       "  </tbody>\n",
       "</table>\n",
       "</div>"
      ],
      "text/plain": [
       "                     max                   mean                median  \\\n",
       "Sexo            Feminino Masculino     Feminino    Masculino Feminino   \n",
       "Anos de Estudo                                                          \n",
       "1                10000.0   30000.0   516.201748   799.494638    390.0   \n",
       "2                 2000.0   30000.0   492.771987   895.629047    400.0   \n",
       "3                 4000.0   40000.0   529.911638   931.178986    450.0   \n",
       "4                 3500.0   80000.0   546.853916  1109.203862    500.0   \n",
       "5                10000.0   50000.0   704.279111  1302.329283    788.0   \n",
       "6                 8000.0   35000.0   781.389776  1338.653218    788.0   \n",
       "7                 6000.0   25000.0   833.732824  1448.875419    788.0   \n",
       "8                 9000.0   40000.0   830.751004  1465.497940    788.0   \n",
       "9                18000.0   30000.0   933.615351  1639.396667    800.0   \n",
       "10               20000.0   60000.0   868.021700  1508.038850    788.0   \n",
       "11                6000.0   45000.0   925.919225  1731.270847    800.0   \n",
       "12              100000.0  200000.0  1286.790889  2117.060504   1000.0   \n",
       "13              120000.0   30000.0  1682.313725  2470.330776   1200.0   \n",
       "14               20000.0   25000.0  1911.730047  3195.099154   1300.0   \n",
       "15               20000.0   50000.0  2226.460457  3706.620269   1600.0   \n",
       "16              100000.0  200000.0  3899.513231  6134.279790   2800.0   \n",
       "17                3000.0    7000.0   798.174419  1295.761905    788.0   \n",
       "\n",
       "                                  std               \n",
       "Sexo           Masculino     Feminino    Masculino  \n",
       "Anos de Estudo                                      \n",
       "1                  700.0   639.311534  1023.904884  \n",
       "2                  788.0   425.291842  1331.950552  \n",
       "3                  788.0   498.234168  1435.173827  \n",
       "4                  800.0   424.124446  2143.800133  \n",
       "5                 1000.0   629.553397  1419.821787  \n",
       "6                 1045.0   635.782641  1484.650587  \n",
       "7                 1200.0   574.547028  1476.628602  \n",
       "8                 1200.0   602.038029  1419.708673  \n",
       "9                 1300.0   896.781213  1515.583715  \n",
       "10                1200.0   973.221652  2137.664774  \n",
       "11                1218.0   620.611907  2078.609734  \n",
       "12                1500.0  1819.040417  2676.538942  \n",
       "13                1800.0  4851.833513  2268.081538  \n",
       "14                2400.0  2053.789771  2797.116800  \n",
       "15                2500.0  2064.083336  3987.214974  \n",
       "16                4000.0  4212.770709  7447.613594  \n",
       "17                1200.0   459.985964   979.648745  "
      ]
     },
     "execution_count": 66,
     "metadata": {},
     "output_type": "execute_result"
    }
   ],
   "source": [
    "analise1 = pd.crosstab(dados['Anos de Estudo'],\n",
    "                       dados['Sexo'],\n",
    "                       aggfunc = {'mean', 'median','max','std'},\n",
    "                       values = dados['Renda'])\n",
    "analise1"
   ]
  },
  {
   "cell_type": "markdown",
   "metadata": {
    "colab_type": "text",
    "id": "1Rm1n7a_Tg2u"
   },
   "source": [
    "### Construa um box plot da variável RENDA segundo ANOS DE ESTUDO e SEXO\n",
    "#### <font color='blue'>É possível verificar algum comportamento diferenciado no rendimento entre os grupos de pessoas analisados? Avalie o gráfico e destaque os pontos mais importantes.</font>\n",
    "#### <font color='red'>1º - Utilize somente as informações de pessoas com renda abaixo de R$ 10.000</font>\n",
    "#### <font color='red'>2º - Utilize a variável IDADE para identificar se a desigualdade se verifica para pessoas de mesma idade. Exemplo: <i>data=dados.query('Renda < 10000 and Idade == 40')</i> ou <i>data=dados.query('Renda < 10000 and Idade == 50')</i></font>\n",
    "#### <font color='red'>3º - Para incluir uma terceira variável na construção de um boxplot utilize o parâmetro <i>hue</i> e indique a variável que quer incluir na subdivisão.</font>\n",
    "#### Mais informações: https://seaborn.pydata.org/generated/seaborn.boxplot.html"
   ]
  },
  {
   "cell_type": "code",
   "execution_count": 73,
   "metadata": {
    "colab": {},
    "colab_type": "code",
    "id": "rgMU0WyJTg2v"
   },
   "outputs": [
    {
     "data": {
      "text/plain": [
       "<matplotlib.axes._subplots.AxesSubplot at 0x27e883c1b08>"
      ]
     },
     "execution_count": 73,
     "metadata": {},
     "output_type": "execute_result"
    },
    {
     "data": {
      "image/png": "[encoded data removed]",
      "text/plain": [
       "<Figure size 1080x576 with 1 Axes>"
      ]
     },
     "metadata": {
      "needs_background": "light"
     },
     "output_type": "display_data"
    }
   ],
   "source": [
    "data = dados[dados['Renda'] < 10000]\n",
    "sns.boxplot(x = data['Anos de Estudo'],\n",
    "            y = data['Renda'],\n",
    "            hue = data['Sexo'],\n",
    "            data = data)"
   ]
  },
  {
   "cell_type": "code",
   "execution_count": 85,
   "metadata": {},
   "outputs": [
    {
     "data": {
      "text/plain": [
       "array([41, 38, 47, 26, 35, 32, 31, 37, 25, 28, 33, 58, 30, 55, 48, 44, 51,\n",
       "       50, 21, 29, 42, 34, 39, 40, 18, 73, 23, 46, 22, 27, 43, 57, 20, 16,\n",
       "       61, 60, 54, 71, 36, 53, 52, 64, 19, 49, 78, 45, 24, 59, 56],\n",
       "      dtype=int64)"
      ]
     },
     "execution_count": 85,
     "metadata": {},
     "output_type": "execute_result"
    }
   ],
   "source": [
    "data[data['Anos de Estudo'] == 17]['Idade'].unique()"
   ]
  },
  {
   "cell_type": "markdown",
   "metadata": {
    "colab_type": "text",
    "id": "LrEECOmNTg2w"
   },
   "source": [
    "> ### Conclusões\n",
    "\n",
    "- Homens ganham mais que mulhers\n",
    "- O Salário aumenta com o aumento nos anos de estudo. "
   ]
  },
  {
   "cell_type": "markdown",
   "metadata": {
    "colab_type": "text",
    "id": "0fIFSxj8Tg2x"
   },
   "source": [
    "### Obtenha a média, mediana, valor máximo e desvio-padrão da variável RENDA segundo as UNIDADES DA FEDERAÇÃO\n",
    "#### <font color='blue'>Destaque os pontos mais importante que você observa nas tabulações</font>\n",
    "#### <font color='red'>Utilize o método <i>groupby()</i> do <i>pandas</i> juntamente com o método <i>agg()</i> para contruir a tabulação. O método <i>agg()</i> pode receber um dicionário especificando qual coluna do DataFrame deve ser utilizada e qual lista de funções estatísticas queremos obter, por exemplo: <i>dados.groupby(['UF']).agg({'Renda': ['mean', 'median', 'max', 'std']})</i></font>"
   ]
  },
  {
   "cell_type": "code",
   "execution_count": 92,
   "metadata": {
    "colab": {},
    "colab_type": "code",
    "id": "91IxQFJoTg2x"
   },
   "outputs": [
    {
     "data": {
      "text/html": [
       "<div>\n",
       "<style scoped>\n",
       "    .dataframe tbody tr th:only-of-type {\n",
       "        vertical-align: middle;\n",
       "    }\n",
       "\n",
       "    .dataframe tbody tr th {\n",
       "        vertical-align: top;\n",
       "    }\n",
       "\n",
       "    .dataframe thead tr th {\n",
       "        text-align: left;\n",
       "    }\n",
       "\n",
       "    .dataframe thead tr:last-of-type th {\n",
       "        text-align: right;\n",
       "    }\n",
       "</style>\n",
       "<table border=\"1\" class=\"dataframe\">\n",
       "  <thead>\n",
       "    <tr>\n",
       "      <th></th>\n",
       "      <th colspan=\"4\" halign=\"left\">Renda</th>\n",
       "    </tr>\n",
       "    <tr>\n",
       "      <th></th>\n",
       "      <th>mean</th>\n",
       "      <th>median</th>\n",
       "      <th>max</th>\n",
       "      <th>std</th>\n",
       "    </tr>\n",
       "    <tr>\n",
       "      <th>UF</th>\n",
       "      <th></th>\n",
       "      <th></th>\n",
       "      <th></th>\n",
       "      <th></th>\n",
       "    </tr>\n",
       "  </thead>\n",
       "  <tbody>\n",
       "    <tr>\n",
       "      <th>Acre</th>\n",
       "      <td>1506.091782</td>\n",
       "      <td>900</td>\n",
       "      <td>30000</td>\n",
       "      <td>2276.233415</td>\n",
       "    </tr>\n",
       "    <tr>\n",
       "      <th>Alagoas</th>\n",
       "      <td>1144.552602</td>\n",
       "      <td>788</td>\n",
       "      <td>11000</td>\n",
       "      <td>1237.856197</td>\n",
       "    </tr>\n",
       "    <tr>\n",
       "      <th>Amapá</th>\n",
       "      <td>1861.353516</td>\n",
       "      <td>1200</td>\n",
       "      <td>15580</td>\n",
       "      <td>2020.688632</td>\n",
       "    </tr>\n",
       "    <tr>\n",
       "      <th>Amazonas</th>\n",
       "      <td>1445.130100</td>\n",
       "      <td>900</td>\n",
       "      <td>22000</td>\n",
       "      <td>1757.935591</td>\n",
       "    </tr>\n",
       "    <tr>\n",
       "      <th>Bahia</th>\n",
       "      <td>1429.645094</td>\n",
       "      <td>800</td>\n",
       "      <td>200000</td>\n",
       "      <td>3507.917248</td>\n",
       "    </tr>\n",
       "    <tr>\n",
       "      <th>Ceará</th>\n",
       "      <td>1255.403692</td>\n",
       "      <td>789</td>\n",
       "      <td>25000</td>\n",
       "      <td>1821.963536</td>\n",
       "    </tr>\n",
       "    <tr>\n",
       "      <th>Distrito Federal</th>\n",
       "      <td>4241.954722</td>\n",
       "      <td>2000</td>\n",
       "      <td>100000</td>\n",
       "      <td>5550.463338</td>\n",
       "    </tr>\n",
       "    <tr>\n",
       "      <th>Espírito Santo</th>\n",
       "      <td>2026.383852</td>\n",
       "      <td>1274</td>\n",
       "      <td>100000</td>\n",
       "      <td>3513.846868</td>\n",
       "    </tr>\n",
       "    <tr>\n",
       "      <th>Goiás</th>\n",
       "      <td>1994.580794</td>\n",
       "      <td>1500</td>\n",
       "      <td>30000</td>\n",
       "      <td>2221.933065</td>\n",
       "    </tr>\n",
       "    <tr>\n",
       "      <th>Maranhão</th>\n",
       "      <td>1019.432009</td>\n",
       "      <td>700</td>\n",
       "      <td>30000</td>\n",
       "      <td>1887.816905</td>\n",
       "    </tr>\n",
       "    <tr>\n",
       "      <th>Mato Grosso</th>\n",
       "      <td>2130.652778</td>\n",
       "      <td>1500</td>\n",
       "      <td>35000</td>\n",
       "      <td>2542.630178</td>\n",
       "    </tr>\n",
       "    <tr>\n",
       "      <th>Mato Grosso do Sul</th>\n",
       "      <td>2262.604167</td>\n",
       "      <td>1500</td>\n",
       "      <td>42000</td>\n",
       "      <td>3031.419122</td>\n",
       "    </tr>\n",
       "    <tr>\n",
       "      <th>Minas Gerais</th>\n",
       "      <td>2056.432084</td>\n",
       "      <td>1200</td>\n",
       "      <td>100000</td>\n",
       "      <td>3584.721547</td>\n",
       "    </tr>\n",
       "    <tr>\n",
       "      <th>Paraná</th>\n",
       "      <td>2493.870753</td>\n",
       "      <td>1500</td>\n",
       "      <td>200000</td>\n",
       "      <td>4302.937995</td>\n",
       "    </tr>\n",
       "    <tr>\n",
       "      <th>Paraíba</th>\n",
       "      <td>1293.370487</td>\n",
       "      <td>788</td>\n",
       "      <td>30000</td>\n",
       "      <td>1950.272431</td>\n",
       "    </tr>\n",
       "    <tr>\n",
       "      <th>Pará</th>\n",
       "      <td>1399.076871</td>\n",
       "      <td>850</td>\n",
       "      <td>50000</td>\n",
       "      <td>2053.779555</td>\n",
       "    </tr>\n",
       "    <tr>\n",
       "      <th>Pernambuco</th>\n",
       "      <td>1527.079319</td>\n",
       "      <td>900</td>\n",
       "      <td>50000</td>\n",
       "      <td>2389.622497</td>\n",
       "    </tr>\n",
       "    <tr>\n",
       "      <th>Piauí</th>\n",
       "      <td>1074.550784</td>\n",
       "      <td>750</td>\n",
       "      <td>40000</td>\n",
       "      <td>2373.355726</td>\n",
       "    </tr>\n",
       "    <tr>\n",
       "      <th>Rio Grande do Norte</th>\n",
       "      <td>1344.721480</td>\n",
       "      <td>800</td>\n",
       "      <td>15500</td>\n",
       "      <td>1651.805500</td>\n",
       "    </tr>\n",
       "    <tr>\n",
       "      <th>Rio Grande do Sul</th>\n",
       "      <td>2315.158336</td>\n",
       "      <td>1500</td>\n",
       "      <td>35000</td>\n",
       "      <td>2913.335783</td>\n",
       "    </tr>\n",
       "    <tr>\n",
       "      <th>Rio de Janeiro</th>\n",
       "      <td>2496.403168</td>\n",
       "      <td>1400</td>\n",
       "      <td>200000</td>\n",
       "      <td>5214.583518</td>\n",
       "    </tr>\n",
       "    <tr>\n",
       "      <th>Rondônia</th>\n",
       "      <td>1789.761223</td>\n",
       "      <td>1200</td>\n",
       "      <td>50000</td>\n",
       "      <td>2406.161161</td>\n",
       "    </tr>\n",
       "    <tr>\n",
       "      <th>Roraima</th>\n",
       "      <td>1783.588889</td>\n",
       "      <td>1000</td>\n",
       "      <td>20000</td>\n",
       "      <td>2079.659238</td>\n",
       "    </tr>\n",
       "    <tr>\n",
       "      <th>Santa Catarina</th>\n",
       "      <td>2470.854945</td>\n",
       "      <td>1800</td>\n",
       "      <td>80000</td>\n",
       "      <td>3137.651112</td>\n",
       "    </tr>\n",
       "    <tr>\n",
       "      <th>Sergipe</th>\n",
       "      <td>1109.111111</td>\n",
       "      <td>788</td>\n",
       "      <td>16000</td>\n",
       "      <td>1478.997878</td>\n",
       "    </tr>\n",
       "    <tr>\n",
       "      <th>São Paulo</th>\n",
       "      <td>2638.104986</td>\n",
       "      <td>1600</td>\n",
       "      <td>80000</td>\n",
       "      <td>3503.777366</td>\n",
       "    </tr>\n",
       "    <tr>\n",
       "      <th>Tocantins</th>\n",
       "      <td>1771.094946</td>\n",
       "      <td>1000</td>\n",
       "      <td>60000</td>\n",
       "      <td>2934.590741</td>\n",
       "    </tr>\n",
       "  </tbody>\n",
       "</table>\n",
       "</div>"
      ],
      "text/plain": [
       "                           Renda                            \n",
       "                            mean median     max          std\n",
       "UF                                                          \n",
       "Acre                 1506.091782    900   30000  2276.233415\n",
       "Alagoas              1144.552602    788   11000  1237.856197\n",
       "Amapá                1861.353516   1200   15580  2020.688632\n",
       "Amazonas             1445.130100    900   22000  1757.935591\n",
       "Bahia                1429.645094    800  200000  3507.917248\n",
       "Ceará                1255.403692    789   25000  1821.963536\n",
       "Distrito Federal     4241.954722   2000  100000  5550.463338\n",
       "Espírito Santo       2026.383852   1274  100000  3513.846868\n",
       "Goiás                1994.580794   1500   30000  2221.933065\n",
       "Maranhão             1019.432009    700   30000  1887.816905\n",
       "Mato Grosso          2130.652778   1500   35000  2542.630178\n",
       "Mato Grosso do Sul   2262.604167   1500   42000  3031.419122\n",
       "Minas Gerais         2056.432084   1200  100000  3584.721547\n",
       "Paraná               2493.870753   1500  200000  4302.937995\n",
       "Paraíba              1293.370487    788   30000  1950.272431\n",
       "Pará                 1399.076871    850   50000  2053.779555\n",
       "Pernambuco           1527.079319    900   50000  2389.622497\n",
       "Piauí                1074.550784    750   40000  2373.355726\n",
       "Rio Grande do Norte  1344.721480    800   15500  1651.805500\n",
       "Rio Grande do Sul    2315.158336   1500   35000  2913.335783\n",
       "Rio de Janeiro       2496.403168   1400  200000  5214.583518\n",
       "Rondônia             1789.761223   1200   50000  2406.161161\n",
       "Roraima              1783.588889   1000   20000  2079.659238\n",
       "Santa Catarina       2470.854945   1800   80000  3137.651112\n",
       "Sergipe              1109.111111    788   16000  1478.997878\n",
       "São Paulo            2638.104986   1600   80000  3503.777366\n",
       "Tocantins            1771.094946   1000   60000  2934.590741"
      ]
     },
     "execution_count": 92,
     "metadata": {},
     "output_type": "execute_result"
    }
   ],
   "source": [
    "dados['UF'].replace({11: 'Rondônia', \n",
    "                    12: 'Acre', \n",
    "                    13: 'Amazonas', \n",
    "                    14: 'Roraima', \n",
    "                    15: 'Pará', \n",
    "                    16: 'Amapá', \n",
    "                    17: 'Tocantins', \n",
    "                    21: 'Maranhão', \n",
    "                    22: 'Piauí', \n",
    "                    23: 'Ceará', \n",
    "                    24: 'Rio Grande do Norte', \n",
    "                    25: 'Paraíba', \n",
    "                    26: 'Pernambuco', \n",
    "                    27: 'Alagoas', \n",
    "                    28: 'Sergipe', \n",
    "                    29: 'Bahia', \n",
    "                    31: 'Minas Gerais', \n",
    "                    32: 'Espírito Santo', \n",
    "                    33: 'Rio de Janeiro', \n",
    "                    35: 'São Paulo', \n",
    "                    41: 'Paraná', \n",
    "                    42: 'Santa Catarina', \n",
    "                    43: 'Rio Grande do Sul', \n",
    "                    50: 'Mato Grosso do Sul', \n",
    "                    51: 'Mato Grosso', \n",
    "                    52: 'Goiás', \n",
    "                    53: 'Distrito Federal'}, inplace = True)\n",
    "data = dados.groupby(['UF']).agg({'Renda': ['mean', 'median', 'max', 'std']})\n",
    "data"
   ]
  },
  {
   "cell_type": "code",
   "execution_count": 100,
   "metadata": {},
   "outputs": [
    {
     "data": {
      "text/plain": [
       "1506.0917822838846"
      ]
     },
     "execution_count": 100,
     "metadata": {},
     "output_type": "execute_result"
    }
   ],
   "source": [
    "data.sort_values(by = '', inplace = True)\n"
   ]
  },
  {
   "cell_type": "code",
   "execution_count": 118,
   "metadata": {},
   "outputs": [
    {
     "data": {
      "text/plain": [
       "[Text(0, 0, 'Acre'),\n",
       " Text(0, 0, 'Alagoas'),\n",
       " Text(0, 0, 'Amapá'),\n",
       " Text(0, 0, 'Amazonas'),\n",
       " Text(0, 0, 'Bahia'),\n",
       " Text(0, 0, 'Ceará'),\n",
       " Text(0, 0, 'Distrito Federal'),\n",
       " Text(0, 0, 'Espírito Santo'),\n",
       " Text(0, 0, 'Goiás'),\n",
       " Text(0, 0, 'Maranhão'),\n",
       " Text(0, 0, 'Mato Grosso'),\n",
       " Text(0, 0, 'Mato Grosso do Sul'),\n",
       " Text(0, 0, 'Minas Gerais'),\n",
       " Text(0, 0, 'Paraná'),\n",
       " Text(0, 0, 'Paraíba'),\n",
       " Text(0, 0, 'Pará'),\n",
       " Text(0, 0, 'Pernambuco'),\n",
       " Text(0, 0, 'Piauí'),\n",
       " Text(0, 0, 'Rio Grande do Norte'),\n",
       " Text(0, 0, 'Rio Grande do Sul'),\n",
       " Text(0, 0, 'Rio de Janeiro'),\n",
       " Text(0, 0, 'Rondônia'),\n",
       " Text(0, 0, 'Roraima'),\n",
       " Text(0, 0, 'Santa Catarina'),\n",
       " Text(0, 0, 'Sergipe'),\n",
       " Text(0, 0, 'São Paulo'),\n",
       " Text(0, 0, 'Tocantins')]"
      ]
     },
     "execution_count": 118,
     "metadata": {},
     "output_type": "execute_result"
    },
    {
     "data": {
      "image/png": "[encoded data removed]",
      "text/plain": [
       "<Figure size 1008x1080 with 4 Axes>"
      ]
     },
     "metadata": {
      "needs_background": "light"
     },
     "output_type": "display_data"
    }
   ],
   "source": [
    "%matplotlib inline \n",
    "# Set up the matplotlib figure\n",
    "f, (ax1, ax2, ax3, ax4) = plt.subplots(4, 1, figsize=(14, 15), sharex=True)\n",
    "\n",
    "# Gera um gráfico de barras para o valor maximo de renda por cor e sexo\n",
    "sns.barplot(x=data.index, y=data['Renda']['max'].sort_values(ascending=False), ax = ax1, palette = 'mako')\n",
    "ax1.axhline(0, color=\"k\", clip_on=False)\n",
    "ax1.set_title(\"Max\")\n",
    "\n",
    "# Gera um gráfico de barras para o valor médio de renda por cor e sexoe it diverging\n",
    "sns.barplot(x=data.index, y=data['Renda']['mean'], ax = ax2, palette = 'mako')\n",
    "ax2.axhline(0, color=\"k\", clip_on=False)\n",
    "ax2.set_title(\"Mean\")\n",
    "\n",
    "# Gera um gráfico de barras para a mediana de renda por cor e sexo\n",
    "sns.barplot(x=data.index, y=data['Renda']['median'].sort_values(ascending=False), ax = ax3, palette = 'mako')\n",
    "ax3.axhline(0, color=\"k\", clip_on=False)\n",
    "ax3.set_title(\"Median\")\n",
    "\n",
    "# Gera um gráfico de barras para o desvio padrão de renda por cor e sexo\n",
    "sns.barplot(x=data.index, y=data['Renda']['std'].sort_values(ascending=False), ax = ax4, palette = 'mako')\n",
    "ax4.axhline(0, color=\"k\", clip_on=False)\n",
    "ax4.set_title(\"Std\")\n",
    "#girando os nomes dos estados para não ficarem embolados\n",
    "ax4.set_xticklabels(ax4.get_xticklabels(), rotation=45, horizontalalignment='right')"
   ]
  }
 ],
 "metadata": {
  "colab": {
   "name": "Análise_Descritiva.ipynb",
   "provenance": [],
   "toc_visible": true,
   "version": "0.3.2"
  },
  "kernelspec": {
   "display_name": "Python 3",
   "language": "python",
   "name": "python3"
  },
  "language_info": {
   "codemirror_mode": {
    "name": "ipython",
    "version": 3
   },
   "file_extension": ".py",
   "mimetype": "text/x-python",
   "name": "python",
   "nbconvert_exporter": "python",
   "pygments_lexer": "ipython3",
   "version": "3.8.5"
  }
 },
 "nbformat": 4,
 "nbformat_minor": 1
}
